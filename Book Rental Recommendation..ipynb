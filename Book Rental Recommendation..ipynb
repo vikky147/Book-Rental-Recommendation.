{
 "cells": [
  {
   "cell_type": "code",
   "execution_count": 2,
   "id": "e87a01dd",
   "metadata": {},
   "outputs": [],
   "source": [
    "import numpy as np\n",
    "import pandas as pd\n",
    "import warnings\n",
    "warnings.filterwarnings('ignore')"
   ]
  },
  {
   "cell_type": "code",
   "execution_count": 5,
   "id": "0ff64d72",
   "metadata": {},
   "outputs": [
    {
     "name": "stdout",
     "output_type": "stream",
     "text": [
      "Requirement already satisfied: pandas in c:\\users\\91805\\anaconda1\\lib\\site-packages (2.0.0)\n",
      "Requirement already satisfied: python-dateutil>=2.8.2 in c:\\users\\91805\\anaconda1\\lib\\site-packages (from pandas) (2.8.2)\n",
      "Requirement already satisfied: numpy>=1.20.3 in c:\\users\\91805\\anaconda1\\lib\\site-packages (from pandas) (1.23.5)\n",
      "Requirement already satisfied: pytz>=2020.1 in c:\\users\\91805\\anaconda1\\lib\\site-packages (from pandas) (2022.7)\n",
      "Requirement already satisfied: tzdata>=2022.1 in c:\\users\\91805\\anaconda1\\lib\\site-packages (from pandas) (2023.3)\n",
      "Requirement already satisfied: six>=1.5 in c:\\users\\91805\\anaconda1\\lib\\site-packages (from python-dateutil>=2.8.2->pandas) (1.16.0)\n"
     ]
    }
   ],
   "source": [
    "!pip install pandas"
   ]
  },
  {
   "cell_type": "code",
   "execution_count": 1,
   "id": "3ac783cd",
   "metadata": {},
   "outputs": [
    {
     "name": "stdout",
     "output_type": "stream",
     "text": [
      "Collecting jupyter-collaboration\n",
      "  Downloading jupyter_collaboration-1.0.0a7-py3-none-any.whl (42 kB)\n",
      "     ---------------------------------------- 0.0/42.4 kB ? eta -:--:--\n",
      "     -------------------------------------- 42.4/42.4 kB 683.7 kB/s eta 0:00:00\n",
      "Collecting jupyter-server-fileid<1,>=0.6.0\n",
      "  Downloading jupyter_server_fileid-0.9.0-py3-none-any.whl (15 kB)\n",
      "Collecting jupyter-ydoc<0.4.0,>=0.3.2\n",
      "  Downloading jupyter_ydoc-0.3.4-py3-none-any.whl (10 kB)\n",
      "Collecting jupyter-server<3.0.0,>=2.0.0\n",
      "  Downloading jupyter_server-2.5.0-py3-none-any.whl (366 kB)\n",
      "     ---------------------------------------- 0.0/366.8 kB ? eta -:--:--\n",
      "     -------------------------------------  358.4/366.8 kB 5.6 MB/s eta 0:00:01\n",
      "     -------------------------------------- 366.8/366.8 kB 2.9 MB/s eta 0:00:00\n",
      "Collecting ypy-websocket<0.9.0,>=0.8.3\n",
      "  Downloading ypy_websocket-0.8.4-py3-none-any.whl (10 kB)\n",
      "Requirement already satisfied: anyio>=3.1.0 in c:\\users\\91805\\anaconda1\\lib\\site-packages (from jupyter-server<3.0.0,>=2.0.0->jupyter-collaboration) (3.5.0)\n",
      "Collecting jupyter-server-terminals\n",
      "  Downloading jupyter_server_terminals-0.4.4-py3-none-any.whl (13 kB)\n",
      "Requirement already satisfied: jinja2 in c:\\users\\91805\\anaconda1\\lib\\site-packages (from jupyter-server<3.0.0,>=2.0.0->jupyter-collaboration) (3.1.2)\n",
      "Collecting jupyter-events>=0.4.0\n",
      "  Downloading jupyter_events-0.6.3-py3-none-any.whl (18 kB)\n",
      "Requirement already satisfied: nbformat>=5.3.0 in c:\\users\\91805\\anaconda1\\lib\\site-packages (from jupyter-server<3.0.0,>=2.0.0->jupyter-collaboration) (5.7.0)\n",
      "Requirement already satisfied: packaging in c:\\users\\91805\\anaconda1\\lib\\site-packages (from jupyter-server<3.0.0,>=2.0.0->jupyter-collaboration) (23.0)\n",
      "Requirement already satisfied: nbconvert>=6.4.4 in c:\\users\\91805\\anaconda1\\lib\\site-packages (from jupyter-server<3.0.0,>=2.0.0->jupyter-collaboration) (6.5.4)\n",
      "Collecting pyzmq>=24\n",
      "  Downloading pyzmq-25.0.2-cp39-cp39-win_amd64.whl (1.1 MB)\n",
      "     ---------------------------------------- 0.0/1.1 MB ? eta -:--:--\n",
      "     ------------------------- -------------- 0.7/1.1 MB 9.1 MB/s eta 0:00:01\n",
      "     ---------------------------------------  1.1/1.1 MB 8.0 MB/s eta 0:00:01\n",
      "     ---------------------------------------  1.1/1.1 MB 8.0 MB/s eta 0:00:01\n",
      "     ---------------------------------------- 1.1/1.1 MB 4.8 MB/s eta 0:00:00\n",
      "Requirement already satisfied: terminado>=0.8.3 in c:\\users\\91805\\anaconda1\\lib\\site-packages (from jupyter-server<3.0.0,>=2.0.0->jupyter-collaboration) (0.17.1)\n",
      "Requirement already satisfied: tornado>=6.2.0 in c:\\users\\91805\\anaconda1\\lib\\site-packages (from jupyter-server<3.0.0,>=2.0.0->jupyter-collaboration) (6.2)\n",
      "Requirement already satisfied: traitlets>=5.6.0 in c:\\users\\91805\\anaconda1\\lib\\site-packages (from jupyter-server<3.0.0,>=2.0.0->jupyter-collaboration) (5.7.1)\n",
      "Requirement already satisfied: websocket-client in c:\\users\\91805\\anaconda1\\lib\\site-packages (from jupyter-server<3.0.0,>=2.0.0->jupyter-collaboration) (0.58.0)\n",
      "Requirement already satisfied: prometheus-client in c:\\users\\91805\\anaconda1\\lib\\site-packages (from jupyter-server<3.0.0,>=2.0.0->jupyter-collaboration) (0.14.1)\n",
      "Requirement already satisfied: argon2-cffi in c:\\users\\91805\\anaconda1\\lib\\site-packages (from jupyter-server<3.0.0,>=2.0.0->jupyter-collaboration) (21.3.0)\n",
      "Requirement already satisfied: jupyter-core!=5.0.*,>=4.12 in c:\\users\\91805\\anaconda1\\lib\\site-packages (from jupyter-server<3.0.0,>=2.0.0->jupyter-collaboration) (5.3.0)\n",
      "Requirement already satisfied: send2trash in c:\\users\\91805\\anaconda1\\lib\\site-packages (from jupyter-server<3.0.0,>=2.0.0->jupyter-collaboration) (1.8.0)\n",
      "Requirement already satisfied: pywinpty in c:\\users\\91805\\anaconda1\\lib\\site-packages (from jupyter-server<3.0.0,>=2.0.0->jupyter-collaboration) (2.0.10)\n",
      "Requirement already satisfied: jupyter-client>=7.4.4 in c:\\users\\91805\\anaconda1\\lib\\site-packages (from jupyter-server<3.0.0,>=2.0.0->jupyter-collaboration) (8.1.0)\n",
      "Requirement already satisfied: importlib-metadata>=3.6 in c:\\users\\91805\\anaconda1\\lib\\site-packages (from jupyter-ydoc<0.4.0,>=0.3.2->jupyter-collaboration) (6.0.0)\n",
      "Collecting y-py<0.7.0,>=0.6.0\n",
      "  Downloading y_py-0.6.0-cp39-none-win_amd64.whl (564 kB)\n",
      "     ---------------------------------------- 0.0/565.0 kB ? eta -:--:--\n",
      "     ---------------- -------------------- 256.0/565.0 kB 15.4 MB/s eta 0:00:01\n",
      "     -------------------------------------  563.2/565.0 kB 7.1 MB/s eta 0:00:01\n",
      "     -------------------------------------  563.2/565.0 kB 7.1 MB/s eta 0:00:01\n",
      "     -------------------------------------  563.2/565.0 kB 7.1 MB/s eta 0:00:01\n",
      "     -------------------------------------- 565.0/565.0 kB 3.0 MB/s eta 0:00:00\n",
      "Collecting aiosqlite<1,>=0.17.0\n",
      "  Downloading aiosqlite-0.18.0-py3-none-any.whl (15 kB)\n",
      "Collecting aiofiles<23,>=22.1.0\n",
      "  Downloading aiofiles-22.1.0-py3-none-any.whl (14 kB)\n",
      "Requirement already satisfied: idna>=2.8 in c:\\users\\91805\\anaconda1\\lib\\site-packages (from anyio>=3.1.0->jupyter-server<3.0.0,>=2.0.0->jupyter-collaboration) (3.4)\n",
      "Requirement already satisfied: sniffio>=1.1 in c:\\users\\91805\\anaconda1\\lib\\site-packages (from anyio>=3.1.0->jupyter-server<3.0.0,>=2.0.0->jupyter-collaboration) (1.2.0)\n",
      "Requirement already satisfied: zipp>=0.5 in c:\\users\\91805\\anaconda1\\lib\\site-packages (from importlib-metadata>=3.6->jupyter-ydoc<0.4.0,>=0.3.2->jupyter-collaboration) (3.11.0)\n",
      "Requirement already satisfied: python-dateutil>=2.8.2 in c:\\users\\91805\\anaconda1\\lib\\site-packages (from jupyter-client>=7.4.4->jupyter-server<3.0.0,>=2.0.0->jupyter-collaboration) (2.8.2)\n",
      "Requirement already satisfied: pywin32>=300 in c:\\users\\91805\\anaconda1\\lib\\site-packages (from jupyter-core!=5.0.*,>=4.12->jupyter-server<3.0.0,>=2.0.0->jupyter-collaboration) (305.1)\n",
      "Requirement already satisfied: platformdirs>=2.5 in c:\\users\\91805\\anaconda1\\lib\\site-packages (from jupyter-core!=5.0.*,>=4.12->jupyter-server<3.0.0,>=2.0.0->jupyter-collaboration) (2.5.2)\n",
      "Collecting rfc3986-validator>=0.1.1\n",
      "  Downloading rfc3986_validator-0.1.1-py2.py3-none-any.whl (4.2 kB)\n",
      "Collecting rfc3339-validator\n",
      "  Downloading rfc3339_validator-0.1.4-py2.py3-none-any.whl (3.5 kB)\n",
      "Collecting python-json-logger>=2.0.4\n",
      "  Downloading python_json_logger-2.0.7-py3-none-any.whl (8.1 kB)\n",
      "Requirement already satisfied: jsonschema[format-nongpl]>=3.2.0 in c:\\users\\91805\\anaconda1\\lib\\site-packages (from jupyter-events>=0.4.0->jupyter-server<3.0.0,>=2.0.0->jupyter-collaboration) (4.17.3)\n",
      "Requirement already satisfied: pyyaml>=5.3 in c:\\users\\91805\\anaconda1\\lib\\site-packages (from jupyter-events>=0.4.0->jupyter-server<3.0.0,>=2.0.0->jupyter-collaboration) (6.0)\n",
      "Requirement already satisfied: jupyterlab-pygments in c:\\users\\91805\\anaconda1\\lib\\site-packages (from nbconvert>=6.4.4->jupyter-server<3.0.0,>=2.0.0->jupyter-collaboration) (0.1.2)\n",
      "Requirement already satisfied: entrypoints>=0.2.2 in c:\\users\\91805\\anaconda1\\lib\\site-packages (from nbconvert>=6.4.4->jupyter-server<3.0.0,>=2.0.0->jupyter-collaboration) (0.4)\n",
      "Requirement already satisfied: defusedxml in c:\\users\\91805\\anaconda1\\lib\\site-packages (from nbconvert>=6.4.4->jupyter-server<3.0.0,>=2.0.0->jupyter-collaboration) (0.7.1)\n",
      "Requirement already satisfied: MarkupSafe>=2.0 in c:\\users\\91805\\anaconda1\\lib\\site-packages (from nbconvert>=6.4.4->jupyter-server<3.0.0,>=2.0.0->jupyter-collaboration) (2.1.1)\n",
      "Requirement already satisfied: pygments>=2.4.1 in c:\\users\\91805\\anaconda1\\lib\\site-packages (from nbconvert>=6.4.4->jupyter-server<3.0.0,>=2.0.0->jupyter-collaboration) (2.11.2)\n",
      "Requirement already satisfied: nbclient>=0.5.0 in c:\\users\\91805\\anaconda1\\lib\\site-packages (from nbconvert>=6.4.4->jupyter-server<3.0.0,>=2.0.0->jupyter-collaboration) (0.5.13)\n",
      "Requirement already satisfied: tinycss2 in c:\\users\\91805\\anaconda1\\lib\\site-packages (from nbconvert>=6.4.4->jupyter-server<3.0.0,>=2.0.0->jupyter-collaboration) (1.2.1)\n",
      "Requirement already satisfied: mistune<2,>=0.8.1 in c:\\users\\91805\\anaconda1\\lib\\site-packages (from nbconvert>=6.4.4->jupyter-server<3.0.0,>=2.0.0->jupyter-collaboration) (0.8.4)\n",
      "Requirement already satisfied: lxml in c:\\users\\91805\\anaconda1\\lib\\site-packages (from nbconvert>=6.4.4->jupyter-server<3.0.0,>=2.0.0->jupyter-collaboration) (4.9.2)\n",
      "Requirement already satisfied: pandocfilters>=1.4.1 in c:\\users\\91805\\anaconda1\\lib\\site-packages (from nbconvert>=6.4.4->jupyter-server<3.0.0,>=2.0.0->jupyter-collaboration) (1.5.0)\n",
      "Requirement already satisfied: beautifulsoup4 in c:\\users\\91805\\anaconda1\\lib\\site-packages (from nbconvert>=6.4.4->jupyter-server<3.0.0,>=2.0.0->jupyter-collaboration) (4.12.0)\n",
      "Requirement already satisfied: bleach in c:\\users\\91805\\anaconda1\\lib\\site-packages (from nbconvert>=6.4.4->jupyter-server<3.0.0,>=2.0.0->jupyter-collaboration) (4.1.0)\n",
      "Requirement already satisfied: fastjsonschema in c:\\users\\91805\\anaconda1\\lib\\site-packages (from nbformat>=5.3.0->jupyter-server<3.0.0,>=2.0.0->jupyter-collaboration) (2.16.2)\n",
      "Requirement already satisfied: argon2-cffi-bindings in c:\\users\\91805\\anaconda1\\lib\\site-packages (from argon2-cffi->jupyter-server<3.0.0,>=2.0.0->jupyter-collaboration) (21.2.0)\n",
      "Requirement already satisfied: six in c:\\users\\91805\\anaconda1\\lib\\site-packages (from websocket-client->jupyter-server<3.0.0,>=2.0.0->jupyter-collaboration) (1.16.0)\n",
      "Requirement already satisfied: attrs>=17.4.0 in c:\\users\\91805\\anaconda1\\lib\\site-packages (from jsonschema[format-nongpl]>=3.2.0->jupyter-events>=0.4.0->jupyter-server<3.0.0,>=2.0.0->jupyter-collaboration) (22.1.0)\n",
      "Requirement already satisfied: pyrsistent!=0.17.0,!=0.17.1,!=0.17.2,>=0.14.0 in c:\\users\\91805\\anaconda1\\lib\\site-packages (from jsonschema[format-nongpl]>=3.2.0->jupyter-events>=0.4.0->jupyter-server<3.0.0,>=2.0.0->jupyter-collaboration) (0.18.0)\n",
      "Collecting webcolors>=1.11\n",
      "  Downloading webcolors-1.13-py3-none-any.whl (14 kB)\n",
      "Collecting fqdn\n",
      "  Downloading fqdn-1.5.1-py3-none-any.whl (9.1 kB)\n",
      "Collecting uri-template\n",
      "  Downloading uri_template-1.2.0-py3-none-any.whl (10 kB)\n",
      "Collecting isoduration\n",
      "  Downloading isoduration-20.11.0-py3-none-any.whl (11 kB)\n",
      "Requirement already satisfied: jsonpointer>1.13 in c:\\users\\91805\\anaconda1\\lib\\site-packages (from jsonschema[format-nongpl]>=3.2.0->jupyter-events>=0.4.0->jupyter-server<3.0.0,>=2.0.0->jupyter-collaboration) (2.1)\n",
      "Requirement already satisfied: nest-asyncio in c:\\users\\91805\\anaconda1\\lib\\site-packages (from nbclient>=0.5.0->nbconvert>=6.4.4->jupyter-server<3.0.0,>=2.0.0->jupyter-collaboration) (1.5.6)\n",
      "Requirement already satisfied: cffi>=1.0.1 in c:\\users\\91805\\anaconda1\\lib\\site-packages (from argon2-cffi-bindings->argon2-cffi->jupyter-server<3.0.0,>=2.0.0->jupyter-collaboration) (1.15.1)\n",
      "Requirement already satisfied: soupsieve>1.2 in c:\\users\\91805\\anaconda1\\lib\\site-packages (from beautifulsoup4->nbconvert>=6.4.4->jupyter-server<3.0.0,>=2.0.0->jupyter-collaboration) (2.4)\n",
      "Requirement already satisfied: webencodings in c:\\users\\91805\\anaconda1\\lib\\site-packages (from bleach->nbconvert>=6.4.4->jupyter-server<3.0.0,>=2.0.0->jupyter-collaboration) (0.5.1)\n",
      "Requirement already satisfied: pycparser in c:\\users\\91805\\anaconda1\\lib\\site-packages (from cffi>=1.0.1->argon2-cffi-bindings->argon2-cffi->jupyter-server<3.0.0,>=2.0.0->jupyter-collaboration) (2.21)\n",
      "Collecting arrow>=0.15.0\n",
      "  Downloading arrow-1.2.3-py3-none-any.whl (66 kB)\n",
      "     ---------------------------------------- 0.0/66.4 kB ? eta -:--:--\n",
      "     ---------------------------------------- 66.4/66.4 kB 1.8 MB/s eta 0:00:00\n",
      "Installing collected packages: y-py, webcolors, uri-template, rfc3986-validator, rfc3339-validator, pyzmq, python-json-logger, fqdn, aiosqlite, aiofiles, ypy-websocket, jupyter-ydoc, jupyter-server-terminals, arrow, isoduration, jupyter-events, jupyter-server, jupyter-server-fileid, jupyter-collaboration\n",
      "  Attempting uninstall: pyzmq\n",
      "    Found existing installation: pyzmq 23.2.0\n",
      "    Uninstalling pyzmq-23.2.0:\n",
      "      Successfully uninstalled pyzmq-23.2.0\n",
      "Note: you may need to restart the kernel to use updated packages.\n"
     ]
    },
    {
     "name": "stderr",
     "output_type": "stream",
     "text": [
      "ERROR: Could not install packages due to an OSError: [WinError 5] Access is denied: 'C:\\\\Users\\\\91805\\\\anaconda1\\\\Lib\\\\site-packages\\\\~mq\\\\backend\\\\cython\\\\context.cp39-win_amd64.pyd'\n",
      "Consider using the `--user` option or check the permissions.\n",
      "\n"
     ]
    }
   ],
   "source": [
    "pip install jupyter-collaboration\n"
   ]
  },
  {
   "cell_type": "code",
   "execution_count": 6,
   "id": "b7a8fd59",
   "metadata": {},
   "outputs": [
    {
     "data": {
      "text/plain": [
       "['C:\\\\Users\\\\91805',\n",
       " 'C:\\\\Users\\\\91805\\\\anaconda1\\\\python39.zip',\n",
       " 'C:\\\\Users\\\\91805\\\\anaconda1\\\\DLLs',\n",
       " 'C:\\\\Users\\\\91805\\\\anaconda1\\\\lib',\n",
       " 'C:\\\\Users\\\\91805\\\\anaconda1',\n",
       " '',\n",
       " 'C:\\\\Users\\\\91805\\\\anaconda1\\\\lib\\\\site-packages',\n",
       " 'C:\\\\Users\\\\91805\\\\anaconda1\\\\lib\\\\site-packages\\\\win32',\n",
       " 'C:\\\\Users\\\\91805\\\\anaconda1\\\\lib\\\\site-packages\\\\win32\\\\lib',\n",
       " 'C:\\\\Users\\\\91805\\\\anaconda1\\\\lib\\\\site-packages\\\\Pythonwin']"
      ]
     },
     "execution_count": 6,
     "metadata": {},
     "output_type": "execute_result"
    }
   ],
   "source": [
    "import sys\n",
    "sys.path"
   ]
  },
  {
   "cell_type": "code",
   "execution_count": 2,
   "id": "f568f537",
   "metadata": {},
   "outputs": [
    {
     "name": "stdout",
     "output_type": "stream",
     "text": [
      "Collecting jupyterlab-night\n",
      "  Downloading jupyterlab_night-0.4.6-py3-none-any.whl (162 kB)\n",
      "     ---------------------------------------- 0.0/162.4 kB ? eta -:--:--\n",
      "     -------------------------- ----------- 112.6/162.4 kB 1.6 MB/s eta 0:00:01\n",
      "     ----------------------------------- -- 153.6/162.4 kB 1.5 MB/s eta 0:00:01\n",
      "     ----------------------------------- -- 153.6/162.4 kB 1.5 MB/s eta 0:00:01\n",
      "     ----------------------------------- -- 153.6/162.4 kB 1.5 MB/s eta 0:00:01\n",
      "     ------------------------------------ 162.4/162.4 kB 745.8 kB/s eta 0:00:00\n",
      "Installing collected packages: jupyterlab-night\n",
      "Successfully installed jupyterlab-night-0.4.6\n",
      "Note: you may need to restart the kernel to use updated packages.\n"
     ]
    }
   ],
   "source": [
    "pip install jupyterlab-night\n"
   ]
  },
  {
   "cell_type": "code",
   "execution_count": 3,
   "id": "4546cec7",
   "metadata": {},
   "outputs": [
    {
     "name": "stdout",
     "output_type": "stream",
     "text": [
      "Collecting jupyterlab-language-pack-fr-FR\n",
      "  Downloading jupyterlab_language_pack_fr_fr-3.6.post1-py2.py3-none-any.whl (140 kB)\n",
      "     ---------------------------------------- 0.0/140.4 kB ? eta -:--:--\n",
      "     ------------------------------------ - 133.1/140.4 kB 2.7 MB/s eta 0:00:01\n",
      "     ------------------------------------ - 133.1/140.4 kB 2.7 MB/s eta 0:00:01\n",
      "     -------------------------------------- 140.4/140.4 kB 1.2 MB/s eta 0:00:00\n",
      "Installing collected packages: jupyterlab-language-pack-fr-FR\n",
      "Successfully installed jupyterlab-language-pack-fr-FR-3.6.post1\n",
      "Note: you may need to restart the kernel to use updated packages.\n"
     ]
    }
   ],
   "source": [
    "pip install jupyterlab-language-pack-fr-FR\n"
   ]
  },
  {
   "cell_type": "code",
   "execution_count": 4,
   "id": "ef211057",
   "metadata": {},
   "outputs": [
    {
     "name": "stdout",
     "output_type": "stream",
     "text": [
      "Collecting jupyter-lsp\n",
      "  Downloading jupyter_lsp-2.0.1-py3-none-any.whl (63 kB)\n",
      "     ---------------------------------------- 0.0/63.8 kB ? eta -:--:--\n",
      "     -------------------------------------- - 61.4/63.8 kB 3.2 MB/s eta 0:00:01\n",
      "     ---------------------------------------- 63.8/63.8 kB 1.1 MB/s eta 0:00:00\n",
      "Requirement already satisfied: jupyter-server>=1.1.2 in c:\\users\\91805\\anaconda1\\lib\\site-packages (from jupyter-lsp) (1.23.4)\n",
      "Requirement already satisfied: importlib-metadata>=4.8.3 in c:\\users\\91805\\anaconda1\\lib\\site-packages (from jupyter-lsp) (6.0.0)\n",
      "Requirement already satisfied: zipp>=0.5 in c:\\users\\91805\\anaconda1\\lib\\site-packages (from importlib-metadata>=4.8.3->jupyter-lsp) (3.11.0)\n",
      "Requirement already satisfied: pyzmq>=17 in c:\\users\\91805\\anaconda1\\lib\\site-packages (from jupyter-server>=1.1.2->jupyter-lsp) (25.0.2)\n",
      "Requirement already satisfied: packaging in c:\\users\\91805\\anaconda1\\lib\\site-packages (from jupyter-server>=1.1.2->jupyter-lsp) (23.0)\n",
      "Requirement already satisfied: nbconvert>=6.4.4 in c:\\users\\91805\\anaconda1\\lib\\site-packages (from jupyter-server>=1.1.2->jupyter-lsp) (6.5.4)\n",
      "Requirement already satisfied: argon2-cffi in c:\\users\\91805\\anaconda1\\lib\\site-packages (from jupyter-server>=1.1.2->jupyter-lsp) (21.3.0)\n",
      "Requirement already satisfied: tornado>=6.1.0 in c:\\users\\91805\\anaconda1\\lib\\site-packages (from jupyter-server>=1.1.2->jupyter-lsp) (6.2)\n",
      "Requirement already satisfied: traitlets>=5.1 in c:\\users\\91805\\anaconda1\\lib\\site-packages (from jupyter-server>=1.1.2->jupyter-lsp) (5.7.1)\n",
      "Requirement already satisfied: anyio<4,>=3.1.0 in c:\\users\\91805\\anaconda1\\lib\\site-packages (from jupyter-server>=1.1.2->jupyter-lsp) (3.5.0)\n",
      "Requirement already satisfied: nbformat>=5.2.0 in c:\\users\\91805\\anaconda1\\lib\\site-packages (from jupyter-server>=1.1.2->jupyter-lsp) (5.7.0)\n",
      "Requirement already satisfied: jupyter-core>=4.7.0 in c:\\users\\91805\\anaconda1\\lib\\site-packages (from jupyter-server>=1.1.2->jupyter-lsp) (5.3.0)\n",
      "Requirement already satisfied: pywinpty in c:\\users\\91805\\anaconda1\\lib\\site-packages (from jupyter-server>=1.1.2->jupyter-lsp) (2.0.10)\n",
      "Requirement already satisfied: terminado>=0.8.3 in c:\\users\\91805\\anaconda1\\lib\\site-packages (from jupyter-server>=1.1.2->jupyter-lsp) (0.17.1)\n",
      "Requirement already satisfied: websocket-client in c:\\users\\91805\\anaconda1\\lib\\site-packages (from jupyter-server>=1.1.2->jupyter-lsp) (0.58.0)\n",
      "Requirement already satisfied: prometheus-client in c:\\users\\91805\\anaconda1\\lib\\site-packages (from jupyter-server>=1.1.2->jupyter-lsp) (0.14.1)\n",
      "Requirement already satisfied: jinja2 in c:\\users\\91805\\anaconda1\\lib\\site-packages (from jupyter-server>=1.1.2->jupyter-lsp) (3.1.2)\n",
      "Requirement already satisfied: Send2Trash in c:\\users\\91805\\anaconda1\\lib\\site-packages (from jupyter-server>=1.1.2->jupyter-lsp) (1.8.0)\n",
      "Requirement already satisfied: jupyter-client>=6.1.12 in c:\\users\\91805\\anaconda1\\lib\\site-packages (from jupyter-server>=1.1.2->jupyter-lsp) (8.1.0)\n",
      "Requirement already satisfied: idna>=2.8 in c:\\users\\91805\\anaconda1\\lib\\site-packages (from anyio<4,>=3.1.0->jupyter-server>=1.1.2->jupyter-lsp) (3.4)\n",
      "Requirement already satisfied: sniffio>=1.1 in c:\\users\\91805\\anaconda1\\lib\\site-packages (from anyio<4,>=3.1.0->jupyter-server>=1.1.2->jupyter-lsp) (1.2.0)\n",
      "Requirement already satisfied: python-dateutil>=2.8.2 in c:\\users\\91805\\anaconda1\\lib\\site-packages (from jupyter-client>=6.1.12->jupyter-server>=1.1.2->jupyter-lsp) (2.8.2)\n",
      "Requirement already satisfied: pywin32>=300 in c:\\users\\91805\\anaconda1\\lib\\site-packages (from jupyter-core>=4.7.0->jupyter-server>=1.1.2->jupyter-lsp) (305.1)\n",
      "Requirement already satisfied: platformdirs>=2.5 in c:\\users\\91805\\anaconda1\\lib\\site-packages (from jupyter-core>=4.7.0->jupyter-server>=1.1.2->jupyter-lsp) (2.5.2)\n",
      "Requirement already satisfied: MarkupSafe>=2.0 in c:\\users\\91805\\anaconda1\\lib\\site-packages (from nbconvert>=6.4.4->jupyter-server>=1.1.2->jupyter-lsp) (2.1.1)\n",
      "Requirement already satisfied: lxml in c:\\users\\91805\\anaconda1\\lib\\site-packages (from nbconvert>=6.4.4->jupyter-server>=1.1.2->jupyter-lsp) (4.9.2)\n",
      "Requirement already satisfied: mistune<2,>=0.8.1 in c:\\users\\91805\\anaconda1\\lib\\site-packages (from nbconvert>=6.4.4->jupyter-server>=1.1.2->jupyter-lsp) (0.8.4)\n",
      "Requirement already satisfied: nbclient>=0.5.0 in c:\\users\\91805\\anaconda1\\lib\\site-packages (from nbconvert>=6.4.4->jupyter-server>=1.1.2->jupyter-lsp) (0.5.13)\n",
      "Requirement already satisfied: pandocfilters>=1.4.1 in c:\\users\\91805\\anaconda1\\lib\\site-packages (from nbconvert>=6.4.4->jupyter-server>=1.1.2->jupyter-lsp) (1.5.0)\n",
      "Requirement already satisfied: bleach in c:\\users\\91805\\anaconda1\\lib\\site-packages (from nbconvert>=6.4.4->jupyter-server>=1.1.2->jupyter-lsp) (4.1.0)\n",
      "Requirement already satisfied: pygments>=2.4.1 in c:\\users\\91805\\anaconda1\\lib\\site-packages (from nbconvert>=6.4.4->jupyter-server>=1.1.2->jupyter-lsp) (2.11.2)\n",
      "Requirement already satisfied: jupyterlab-pygments in c:\\users\\91805\\anaconda1\\lib\\site-packages (from nbconvert>=6.4.4->jupyter-server>=1.1.2->jupyter-lsp) (0.1.2)\n",
      "Requirement already satisfied: tinycss2 in c:\\users\\91805\\anaconda1\\lib\\site-packages (from nbconvert>=6.4.4->jupyter-server>=1.1.2->jupyter-lsp) (1.2.1)\n",
      "Requirement already satisfied: defusedxml in c:\\users\\91805\\anaconda1\\lib\\site-packages (from nbconvert>=6.4.4->jupyter-server>=1.1.2->jupyter-lsp) (0.7.1)\n",
      "Requirement already satisfied: entrypoints>=0.2.2 in c:\\users\\91805\\anaconda1\\lib\\site-packages (from nbconvert>=6.4.4->jupyter-server>=1.1.2->jupyter-lsp) (0.4)\n",
      "Requirement already satisfied: beautifulsoup4 in c:\\users\\91805\\anaconda1\\lib\\site-packages (from nbconvert>=6.4.4->jupyter-server>=1.1.2->jupyter-lsp) (4.12.0)\n",
      "Requirement already satisfied: jsonschema>=2.6 in c:\\users\\91805\\anaconda1\\lib\\site-packages (from nbformat>=5.2.0->jupyter-server>=1.1.2->jupyter-lsp) (4.17.3)\n",
      "Requirement already satisfied: fastjsonschema in c:\\users\\91805\\anaconda1\\lib\\site-packages (from nbformat>=5.2.0->jupyter-server>=1.1.2->jupyter-lsp) (2.16.2)\n",
      "Requirement already satisfied: argon2-cffi-bindings in c:\\users\\91805\\anaconda1\\lib\\site-packages (from argon2-cffi->jupyter-server>=1.1.2->jupyter-lsp) (21.2.0)\n",
      "Requirement already satisfied: six in c:\\users\\91805\\anaconda1\\lib\\site-packages (from websocket-client->jupyter-server>=1.1.2->jupyter-lsp) (1.16.0)\n",
      "Requirement already satisfied: pyrsistent!=0.17.0,!=0.17.1,!=0.17.2,>=0.14.0 in c:\\users\\91805\\anaconda1\\lib\\site-packages (from jsonschema>=2.6->nbformat>=5.2.0->jupyter-server>=1.1.2->jupyter-lsp) (0.18.0)\n",
      "Requirement already satisfied: attrs>=17.4.0 in c:\\users\\91805\\anaconda1\\lib\\site-packages (from jsonschema>=2.6->nbformat>=5.2.0->jupyter-server>=1.1.2->jupyter-lsp) (22.1.0)\n",
      "Requirement already satisfied: nest-asyncio in c:\\users\\91805\\anaconda1\\lib\\site-packages (from nbclient>=0.5.0->nbconvert>=6.4.4->jupyter-server>=1.1.2->jupyter-lsp) (1.5.6)\n",
      "Requirement already satisfied: cffi>=1.0.1 in c:\\users\\91805\\anaconda1\\lib\\site-packages (from argon2-cffi-bindings->argon2-cffi->jupyter-server>=1.1.2->jupyter-lsp) (1.15.1)\n",
      "Requirement already satisfied: soupsieve>1.2 in c:\\users\\91805\\anaconda1\\lib\\site-packages (from beautifulsoup4->nbconvert>=6.4.4->jupyter-server>=1.1.2->jupyter-lsp) (2.4)\n",
      "Requirement already satisfied: webencodings in c:\\users\\91805\\anaconda1\\lib\\site-packages (from bleach->nbconvert>=6.4.4->jupyter-server>=1.1.2->jupyter-lsp) (0.5.1)\n",
      "Requirement already satisfied: pycparser in c:\\users\\91805\\anaconda1\\lib\\site-packages (from cffi>=1.0.1->argon2-cffi-bindings->argon2-cffi->jupyter-server>=1.1.2->jupyter-lsp) (2.21)\n",
      "Installing collected packages: jupyter-lsp\n",
      "Successfully installed jupyter-lsp-2.0.1\n",
      "Note: you may need to restart the kernel to use updated packages.\n"
     ]
    }
   ],
   "source": [
    "pip install jupyter-lsp\n"
   ]
  },
  {
   "cell_type": "code",
   "execution_count": 5,
   "id": "8ff9ece9",
   "metadata": {},
   "outputs": [
    {
     "name": "stdout",
     "output_type": "stream",
     "text": [
      "Collecting jupyterlab-rise\n",
      "  Downloading jupyterlab_rise-0.2.0-py3-none-any.whl (10.3 MB)\n",
      "     ---------------------------------------- 0.0/10.3 MB ? eta -:--:--\n",
      "      --------------------------------------- 0.2/10.3 MB 3.9 MB/s eta 0:00:03\n",
      "     - -------------------------------------- 0.4/10.3 MB 3.5 MB/s eta 0:00:03\n",
      "     -- ------------------------------------- 0.6/10.3 MB 3.8 MB/s eta 0:00:03\n",
      "     ---- ----------------------------------- 1.1/10.3 MB 5.2 MB/s eta 0:00:02\n",
      "     ----- ---------------------------------- 1.3/10.3 MB 5.0 MB/s eta 0:00:02\n",
      "     ----- ---------------------------------- 1.5/10.3 MB 5.3 MB/s eta 0:00:02\n",
      "     ----- ---------------------------------- 1.5/10.3 MB 5.3 MB/s eta 0:00:02\n",
      "     ---------------- ----------------------- 4.3/10.3 MB 7.2 MB/s eta 0:00:01\n",
      "     ---------------- ----------------------- 4.3/10.3 MB 7.2 MB/s eta 0:00:01\n",
      "     ------------------- -------------------- 5.1/10.3 MB 7.2 MB/s eta 0:00:01\n",
      "     ------------------- -------------------- 5.1/10.3 MB 7.2 MB/s eta 0:00:01\n",
      "     ------------------- -------------------- 5.1/10.3 MB 6.4 MB/s eta 0:00:01\n",
      "     ------------------------ --------------- 6.4/10.3 MB 7.4 MB/s eta 0:00:01\n",
      "     -------------------------- ------------- 7.0/10.3 MB 7.7 MB/s eta 0:00:01\n",
      "     ---------------------------- ----------- 7.3/10.3 MB 7.8 MB/s eta 0:00:01\n",
      "     ---------------------------- ----------- 7.3/10.3 MB 7.8 MB/s eta 0:00:01\n",
      "     --------------------------------- ------ 8.7/10.3 MB 7.0 MB/s eta 0:00:01\n",
      "     ----------------------------------- ---- 9.2/10.3 MB 7.0 MB/s eta 0:00:01\n",
      "     ---------------------------------------  10.1/10.3 MB 7.5 MB/s eta 0:00:01\n",
      "     ---------------------------------------  10.3/10.3 MB 7.4 MB/s eta 0:00:01\n",
      "     ---------------------------------------  10.3/10.3 MB 7.4 MB/s eta 0:00:01\n",
      "     ---------------------------------------  10.3/10.3 MB 7.4 MB/s eta 0:00:01\n",
      "     ---------------------------------------  10.3/10.3 MB 7.4 MB/s eta 0:00:01\n",
      "     ---------------------------------------  10.3/10.3 MB 7.4 MB/s eta 0:00:01\n",
      "     ---------------------------------------  10.3/10.3 MB 7.4 MB/s eta 0:00:01\n",
      "     ---------------------------------------- 10.3/10.3 MB 5.9 MB/s eta 0:00:00\n",
      "Requirement already satisfied: jupyterlab<4,>=3.0.0 in c:\\users\\91805\\anaconda1\\lib\\site-packages (from jupyterlab-rise) (3.5.3)\n",
      "Requirement already satisfied: jupyter-server<3,>=1.16.0 in c:\\users\\91805\\anaconda1\\lib\\site-packages (from jupyterlab<4,>=3.0.0->jupyterlab-rise) (1.23.4)\n",
      "Requirement already satisfied: notebook<7 in c:\\users\\91805\\anaconda1\\lib\\site-packages (from jupyterlab<4,>=3.0.0->jupyterlab-rise) (6.5.3)\n",
      "Requirement already satisfied: jupyterlab-server~=2.10 in c:\\users\\91805\\anaconda1\\lib\\site-packages (from jupyterlab<4,>=3.0.0->jupyterlab-rise) (2.22.0)\n",
      "Requirement already satisfied: jinja2>=2.1 in c:\\users\\91805\\anaconda1\\lib\\site-packages (from jupyterlab<4,>=3.0.0->jupyterlab-rise) (3.1.2)\n",
      "Requirement already satisfied: packaging in c:\\users\\91805\\anaconda1\\lib\\site-packages (from jupyterlab<4,>=3.0.0->jupyterlab-rise) (23.0)\n",
      "Requirement already satisfied: tomli in c:\\users\\91805\\anaconda1\\lib\\site-packages (from jupyterlab<4,>=3.0.0->jupyterlab-rise) (2.0.1)\n",
      "Requirement already satisfied: jupyter-core in c:\\users\\91805\\anaconda1\\lib\\site-packages (from jupyterlab<4,>=3.0.0->jupyterlab-rise) (5.3.0)\n",
      "Requirement already satisfied: ipython in c:\\users\\91805\\anaconda1\\lib\\site-packages (from jupyterlab<4,>=3.0.0->jupyterlab-rise) (8.12.0)\n",
      "Requirement already satisfied: nbclassic in c:\\users\\91805\\anaconda1\\lib\\site-packages (from jupyterlab<4,>=3.0.0->jupyterlab-rise) (0.5.4)\n",
      "Requirement already satisfied: tornado>=6.1.0 in c:\\users\\91805\\anaconda1\\lib\\site-packages (from jupyterlab<4,>=3.0.0->jupyterlab-rise) (6.2)\n",
      "Requirement already satisfied: MarkupSafe>=2.0 in c:\\users\\91805\\anaconda1\\lib\\site-packages (from jinja2>=2.1->jupyterlab<4,>=3.0.0->jupyterlab-rise) (2.1.1)\n",
      "Requirement already satisfied: nbformat>=5.2.0 in c:\\users\\91805\\anaconda1\\lib\\site-packages (from jupyter-server<3,>=1.16.0->jupyterlab<4,>=3.0.0->jupyterlab-rise) (5.7.0)\n",
      "Requirement already satisfied: pyzmq>=17 in c:\\users\\91805\\anaconda1\\lib\\site-packages (from jupyter-server<3,>=1.16.0->jupyterlab<4,>=3.0.0->jupyterlab-rise) (25.0.2)\n",
      "Requirement already satisfied: pywinpty in c:\\users\\91805\\anaconda1\\lib\\site-packages (from jupyter-server<3,>=1.16.0->jupyterlab<4,>=3.0.0->jupyterlab-rise) (2.0.10)\n",
      "Requirement already satisfied: traitlets>=5.1 in c:\\users\\91805\\anaconda1\\lib\\site-packages (from jupyter-server<3,>=1.16.0->jupyterlab<4,>=3.0.0->jupyterlab-rise) (5.7.1)\n",
      "Requirement already satisfied: Send2Trash in c:\\users\\91805\\anaconda1\\lib\\site-packages (from jupyter-server<3,>=1.16.0->jupyterlab<4,>=3.0.0->jupyterlab-rise) (1.8.0)\n",
      "Requirement already satisfied: nbconvert>=6.4.4 in c:\\users\\91805\\anaconda1\\lib\\site-packages (from jupyter-server<3,>=1.16.0->jupyterlab<4,>=3.0.0->jupyterlab-rise) (6.5.4)\n",
      "Requirement already satisfied: websocket-client in c:\\users\\91805\\anaconda1\\lib\\site-packages (from jupyter-server<3,>=1.16.0->jupyterlab<4,>=3.0.0->jupyterlab-rise) (0.58.0)\n",
      "Requirement already satisfied: prometheus-client in c:\\users\\91805\\anaconda1\\lib\\site-packages (from jupyter-server<3,>=1.16.0->jupyterlab<4,>=3.0.0->jupyterlab-rise) (0.14.1)\n",
      "Requirement already satisfied: jupyter-client>=6.1.12 in c:\\users\\91805\\anaconda1\\lib\\site-packages (from jupyter-server<3,>=1.16.0->jupyterlab<4,>=3.0.0->jupyterlab-rise) (8.1.0)\n",
      "Requirement already satisfied: anyio<4,>=3.1.0 in c:\\users\\91805\\anaconda1\\lib\\site-packages (from jupyter-server<3,>=1.16.0->jupyterlab<4,>=3.0.0->jupyterlab-rise) (3.5.0)\n",
      "Requirement already satisfied: argon2-cffi in c:\\users\\91805\\anaconda1\\lib\\site-packages (from jupyter-server<3,>=1.16.0->jupyterlab<4,>=3.0.0->jupyterlab-rise) (21.3.0)\n",
      "Requirement already satisfied: terminado>=0.8.3 in c:\\users\\91805\\anaconda1\\lib\\site-packages (from jupyter-server<3,>=1.16.0->jupyterlab<4,>=3.0.0->jupyterlab-rise) (0.17.1)\n",
      "Requirement already satisfied: platformdirs>=2.5 in c:\\users\\91805\\anaconda1\\lib\\site-packages (from jupyter-core->jupyterlab<4,>=3.0.0->jupyterlab-rise) (2.5.2)\n",
      "Requirement already satisfied: pywin32>=300 in c:\\users\\91805\\anaconda1\\lib\\site-packages (from jupyter-core->jupyterlab<4,>=3.0.0->jupyterlab-rise) (305.1)\n",
      "Requirement already satisfied: jsonschema>=4.17.3 in c:\\users\\91805\\anaconda1\\lib\\site-packages (from jupyterlab-server~=2.10->jupyterlab<4,>=3.0.0->jupyterlab-rise) (4.17.3)\n",
      "Requirement already satisfied: babel>=2.10 in c:\\users\\91805\\anaconda1\\lib\\site-packages (from jupyterlab-server~=2.10->jupyterlab<4,>=3.0.0->jupyterlab-rise) (2.11.0)\n",
      "Requirement already satisfied: requests>=2.28 in c:\\users\\91805\\anaconda1\\lib\\site-packages (from jupyterlab-server~=2.10->jupyterlab<4,>=3.0.0->jupyterlab-rise) (2.28.1)\n",
      "Requirement already satisfied: json5>=0.9.0 in c:\\users\\91805\\anaconda1\\lib\\site-packages (from jupyterlab-server~=2.10->jupyterlab<4,>=3.0.0->jupyterlab-rise) (0.9.6)\n",
      "Requirement already satisfied: importlib-metadata>=4.8.3 in c:\\users\\91805\\anaconda1\\lib\\site-packages (from jupyterlab-server~=2.10->jupyterlab<4,>=3.0.0->jupyterlab-rise) (6.0.0)\n",
      "Requirement already satisfied: nest-asyncio>=1.5 in c:\\users\\91805\\anaconda1\\lib\\site-packages (from notebook<7->jupyterlab<4,>=3.0.0->jupyterlab-rise) (1.5.6)\n",
      "Requirement already satisfied: ipython-genutils in c:\\users\\91805\\anaconda1\\lib\\site-packages (from notebook<7->jupyterlab<4,>=3.0.0->jupyterlab-rise) (0.2.0)\n",
      "Requirement already satisfied: ipykernel in c:\\users\\91805\\anaconda1\\lib\\site-packages (from notebook<7->jupyterlab<4,>=3.0.0->jupyterlab-rise) (6.19.2)\n",
      "Requirement already satisfied: notebook-shim>=0.1.0 in c:\\users\\91805\\anaconda1\\lib\\site-packages (from nbclassic->jupyterlab<4,>=3.0.0->jupyterlab-rise) (0.2.2)\n",
      "Requirement already satisfied: pickleshare in c:\\users\\91805\\anaconda1\\lib\\site-packages (from ipython->jupyterlab<4,>=3.0.0->jupyterlab-rise) (0.7.5)\n",
      "Requirement already satisfied: backcall in c:\\users\\91805\\anaconda1\\lib\\site-packages (from ipython->jupyterlab<4,>=3.0.0->jupyterlab-rise) (0.2.0)\n",
      "Requirement already satisfied: jedi>=0.16 in c:\\users\\91805\\anaconda1\\lib\\site-packages (from ipython->jupyterlab<4,>=3.0.0->jupyterlab-rise) (0.18.1)\n",
      "Requirement already satisfied: decorator in c:\\users\\91805\\anaconda1\\lib\\site-packages (from ipython->jupyterlab<4,>=3.0.0->jupyterlab-rise) (5.1.1)\n",
      "Requirement already satisfied: stack-data in c:\\users\\91805\\anaconda1\\lib\\site-packages (from ipython->jupyterlab<4,>=3.0.0->jupyterlab-rise) (0.2.0)\n",
      "Requirement already satisfied: prompt-toolkit!=3.0.37,<3.1.0,>=3.0.30 in c:\\users\\91805\\anaconda1\\lib\\site-packages (from ipython->jupyterlab<4,>=3.0.0->jupyterlab-rise) (3.0.36)\n",
      "Requirement already satisfied: pygments>=2.4.0 in c:\\users\\91805\\anaconda1\\lib\\site-packages (from ipython->jupyterlab<4,>=3.0.0->jupyterlab-rise) (2.11.2)\n",
      "Requirement already satisfied: typing-extensions in c:\\users\\91805\\anaconda1\\lib\\site-packages (from ipython->jupyterlab<4,>=3.0.0->jupyterlab-rise) (4.4.0)\n",
      "Requirement already satisfied: colorama in c:\\users\\91805\\anaconda1\\lib\\site-packages (from ipython->jupyterlab<4,>=3.0.0->jupyterlab-rise) (0.4.6)\n",
      "Requirement already satisfied: matplotlib-inline in c:\\users\\91805\\anaconda1\\lib\\site-packages (from ipython->jupyterlab<4,>=3.0.0->jupyterlab-rise) (0.1.6)\n",
      "Requirement already satisfied: sniffio>=1.1 in c:\\users\\91805\\anaconda1\\lib\\site-packages (from anyio<4,>=3.1.0->jupyter-server<3,>=1.16.0->jupyterlab<4,>=3.0.0->jupyterlab-rise) (1.2.0)\n",
      "Requirement already satisfied: idna>=2.8 in c:\\users\\91805\\anaconda1\\lib\\site-packages (from anyio<4,>=3.1.0->jupyter-server<3,>=1.16.0->jupyterlab<4,>=3.0.0->jupyterlab-rise) (3.4)\n",
      "Requirement already satisfied: pytz>=2015.7 in c:\\users\\91805\\anaconda1\\lib\\site-packages (from babel>=2.10->jupyterlab-server~=2.10->jupyterlab<4,>=3.0.0->jupyterlab-rise) (2022.7)\n",
      "Requirement already satisfied: zipp>=0.5 in c:\\users\\91805\\anaconda1\\lib\\site-packages (from importlib-metadata>=4.8.3->jupyterlab-server~=2.10->jupyterlab<4,>=3.0.0->jupyterlab-rise) (3.11.0)\n",
      "Requirement already satisfied: parso<0.9.0,>=0.8.0 in c:\\users\\91805\\anaconda1\\lib\\site-packages (from jedi>=0.16->ipython->jupyterlab<4,>=3.0.0->jupyterlab-rise) (0.8.3)\n",
      "Requirement already satisfied: attrs>=17.4.0 in c:\\users\\91805\\anaconda1\\lib\\site-packages (from jsonschema>=4.17.3->jupyterlab-server~=2.10->jupyterlab<4,>=3.0.0->jupyterlab-rise) (22.1.0)\n",
      "Requirement already satisfied: pyrsistent!=0.17.0,!=0.17.1,!=0.17.2,>=0.14.0 in c:\\users\\91805\\anaconda1\\lib\\site-packages (from jsonschema>=4.17.3->jupyterlab-server~=2.10->jupyterlab<4,>=3.0.0->jupyterlab-rise) (0.18.0)\n",
      "Requirement already satisfied: python-dateutil>=2.8.2 in c:\\users\\91805\\anaconda1\\lib\\site-packages (from jupyter-client>=6.1.12->jupyter-server<3,>=1.16.0->jupyterlab<4,>=3.0.0->jupyterlab-rise) (2.8.2)\n",
      "Requirement already satisfied: nbclient>=0.5.0 in c:\\users\\91805\\anaconda1\\lib\\site-packages (from nbconvert>=6.4.4->jupyter-server<3,>=1.16.0->jupyterlab<4,>=3.0.0->jupyterlab-rise) (0.5.13)\n",
      "Requirement already satisfied: bleach in c:\\users\\91805\\anaconda1\\lib\\site-packages (from nbconvert>=6.4.4->jupyter-server<3,>=1.16.0->jupyterlab<4,>=3.0.0->jupyterlab-rise) (4.1.0)\n",
      "Requirement already satisfied: jupyterlab-pygments in c:\\users\\91805\\anaconda1\\lib\\site-packages (from nbconvert>=6.4.4->jupyter-server<3,>=1.16.0->jupyterlab<4,>=3.0.0->jupyterlab-rise) (0.1.2)\n",
      "Requirement already satisfied: entrypoints>=0.2.2 in c:\\users\\91805\\anaconda1\\lib\\site-packages (from nbconvert>=6.4.4->jupyter-server<3,>=1.16.0->jupyterlab<4,>=3.0.0->jupyterlab-rise) (0.4)\n",
      "Requirement already satisfied: beautifulsoup4 in c:\\users\\91805\\anaconda1\\lib\\site-packages (from nbconvert>=6.4.4->jupyter-server<3,>=1.16.0->jupyterlab<4,>=3.0.0->jupyterlab-rise) (4.12.0)\n",
      "Requirement already satisfied: tinycss2 in c:\\users\\91805\\anaconda1\\lib\\site-packages (from nbconvert>=6.4.4->jupyter-server<3,>=1.16.0->jupyterlab<4,>=3.0.0->jupyterlab-rise) (1.2.1)\n",
      "Requirement already satisfied: mistune<2,>=0.8.1 in c:\\users\\91805\\anaconda1\\lib\\site-packages (from nbconvert>=6.4.4->jupyter-server<3,>=1.16.0->jupyterlab<4,>=3.0.0->jupyterlab-rise) (0.8.4)\n",
      "Requirement already satisfied: pandocfilters>=1.4.1 in c:\\users\\91805\\anaconda1\\lib\\site-packages (from nbconvert>=6.4.4->jupyter-server<3,>=1.16.0->jupyterlab<4,>=3.0.0->jupyterlab-rise) (1.5.0)\n",
      "Requirement already satisfied: lxml in c:\\users\\91805\\anaconda1\\lib\\site-packages (from nbconvert>=6.4.4->jupyter-server<3,>=1.16.0->jupyterlab<4,>=3.0.0->jupyterlab-rise) (4.9.2)\n",
      "Requirement already satisfied: defusedxml in c:\\users\\91805\\anaconda1\\lib\\site-packages (from nbconvert>=6.4.4->jupyter-server<3,>=1.16.0->jupyterlab<4,>=3.0.0->jupyterlab-rise) (0.7.1)\n",
      "Requirement already satisfied: fastjsonschema in c:\\users\\91805\\anaconda1\\lib\\site-packages (from nbformat>=5.2.0->jupyter-server<3,>=1.16.0->jupyterlab<4,>=3.0.0->jupyterlab-rise) (2.16.2)\n",
      "Requirement already satisfied: wcwidth in c:\\users\\91805\\anaconda1\\lib\\site-packages (from prompt-toolkit!=3.0.37,<3.1.0,>=3.0.30->ipython->jupyterlab<4,>=3.0.0->jupyterlab-rise) (0.2.5)\n",
      "Requirement already satisfied: urllib3<1.27,>=1.21.1 in c:\\users\\91805\\anaconda1\\lib\\site-packages (from requests>=2.28->jupyterlab-server~=2.10->jupyterlab<4,>=3.0.0->jupyterlab-rise) (1.26.15)\n",
      "Requirement already satisfied: certifi>=2017.4.17 in c:\\users\\91805\\anaconda1\\lib\\site-packages (from requests>=2.28->jupyterlab-server~=2.10->jupyterlab<4,>=3.0.0->jupyterlab-rise) (2022.12.7)\n",
      "Requirement already satisfied: charset-normalizer<3,>=2 in c:\\users\\91805\\anaconda1\\lib\\site-packages (from requests>=2.28->jupyterlab-server~=2.10->jupyterlab<4,>=3.0.0->jupyterlab-rise) (2.0.4)\n",
      "Requirement already satisfied: argon2-cffi-bindings in c:\\users\\91805\\anaconda1\\lib\\site-packages (from argon2-cffi->jupyter-server<3,>=1.16.0->jupyterlab<4,>=3.0.0->jupyterlab-rise) (21.2.0)\n",
      "Requirement already satisfied: comm>=0.1.1 in c:\\users\\91805\\anaconda1\\lib\\site-packages (from ipykernel->notebook<7->jupyterlab<4,>=3.0.0->jupyterlab-rise) (0.1.2)\n",
      "Requirement already satisfied: debugpy>=1.0 in c:\\users\\91805\\anaconda1\\lib\\site-packages (from ipykernel->notebook<7->jupyterlab<4,>=3.0.0->jupyterlab-rise) (1.5.1)\n",
      "Requirement already satisfied: psutil in c:\\users\\91805\\anaconda1\\lib\\site-packages (from ipykernel->notebook<7->jupyterlab<4,>=3.0.0->jupyterlab-rise) (5.9.0)\n",
      "Requirement already satisfied: pure-eval in c:\\users\\91805\\anaconda1\\lib\\site-packages (from stack-data->ipython->jupyterlab<4,>=3.0.0->jupyterlab-rise) (0.2.2)\n",
      "Requirement already satisfied: executing in c:\\users\\91805\\anaconda1\\lib\\site-packages (from stack-data->ipython->jupyterlab<4,>=3.0.0->jupyterlab-rise) (0.8.3)\n",
      "Requirement already satisfied: asttokens in c:\\users\\91805\\anaconda1\\lib\\site-packages (from stack-data->ipython->jupyterlab<4,>=3.0.0->jupyterlab-rise) (2.0.5)\n",
      "Requirement already satisfied: six in c:\\users\\91805\\anaconda1\\lib\\site-packages (from websocket-client->jupyter-server<3,>=1.16.0->jupyterlab<4,>=3.0.0->jupyterlab-rise) (1.16.0)\n",
      "Requirement already satisfied: cffi>=1.0.1 in c:\\users\\91805\\anaconda1\\lib\\site-packages (from argon2-cffi-bindings->argon2-cffi->jupyter-server<3,>=1.16.0->jupyterlab<4,>=3.0.0->jupyterlab-rise) (1.15.1)\n",
      "Requirement already satisfied: soupsieve>1.2 in c:\\users\\91805\\anaconda1\\lib\\site-packages (from beautifulsoup4->nbconvert>=6.4.4->jupyter-server<3,>=1.16.0->jupyterlab<4,>=3.0.0->jupyterlab-rise) (2.4)\n",
      "Requirement already satisfied: webencodings in c:\\users\\91805\\anaconda1\\lib\\site-packages (from bleach->nbconvert>=6.4.4->jupyter-server<3,>=1.16.0->jupyterlab<4,>=3.0.0->jupyterlab-rise) (0.5.1)\n",
      "Requirement already satisfied: pycparser in c:\\users\\91805\\anaconda1\\lib\\site-packages (from cffi>=1.0.1->argon2-cffi-bindings->argon2-cffi->jupyter-server<3,>=1.16.0->jupyterlab<4,>=3.0.0->jupyterlab-rise) (2.21)\n",
      "Installing collected packages: jupyterlab-rise\n",
      "Successfully installed jupyterlab-rise-0.2.0\n",
      "Note: you may need to restart the kernel to use updated packages.\n"
     ]
    }
   ],
   "source": [
    "pip install jupyterlab-rise\n"
   ]
  },
  {
   "cell_type": "code",
   "execution_count": 3,
   "id": "d256074c",
   "metadata": {},
   "outputs": [],
   "source": [
    "books = pd.read_csv('Books.csv', encoding='ISO-8859-1')\n",
    "users = pd.read_csv('Users.csv', encoding='ISO-8859-1')\n",
    "ratings = pd.read_csv('Book-Ratings.csv', encoding='ISO-8859-1')\n",
    "recommended = pd.read_csv('Recommend.csv', encoding='ISO-8859-1')\n"
   ]
  },
  {
   "cell_type": "code",
   "execution_count": null,
   "id": "cee69725",
   "metadata": {},
   "outputs": [],
   "source": []
  },
  {
   "cell_type": "code",
   "execution_count": 4,
   "id": "aadbcd4b",
   "metadata": {},
   "outputs": [
    {
     "data": {
      "text/html": [
       "<div>\n",
       "<style scoped>\n",
       "    .dataframe tbody tr th:only-of-type {\n",
       "        vertical-align: middle;\n",
       "    }\n",
       "\n",
       "    .dataframe tbody tr th {\n",
       "        vertical-align: top;\n",
       "    }\n",
       "\n",
       "    .dataframe thead th {\n",
       "        text-align: right;\n",
       "    }\n",
       "</style>\n",
       "<table border=\"1\" class=\"dataframe\">\n",
       "  <thead>\n",
       "    <tr style=\"text-align: right;\">\n",
       "      <th></th>\n",
       "      <th>isbn</th>\n",
       "      <th>book_title</th>\n",
       "      <th>book_author</th>\n",
       "      <th>year_of_publication</th>\n",
       "      <th>publisher</th>\n",
       "    </tr>\n",
       "  </thead>\n",
       "  <tbody>\n",
       "    <tr>\n",
       "      <th>0</th>\n",
       "      <td>195153448</td>\n",
       "      <td>Classical Mythology</td>\n",
       "      <td>Mark P. O. Morford</td>\n",
       "      <td>2002</td>\n",
       "      <td>Oxford University Press</td>\n",
       "    </tr>\n",
       "    <tr>\n",
       "      <th>1</th>\n",
       "      <td>2005018</td>\n",
       "      <td>Clara Callan</td>\n",
       "      <td>Richard Bruce Wright</td>\n",
       "      <td>2001</td>\n",
       "      <td>HarperFlamingo Canada</td>\n",
       "    </tr>\n",
       "    <tr>\n",
       "      <th>2</th>\n",
       "      <td>60973129</td>\n",
       "      <td>Decision in Normandy</td>\n",
       "      <td>Carlo D'Este</td>\n",
       "      <td>1991</td>\n",
       "      <td>HarperPerennial</td>\n",
       "    </tr>\n",
       "    <tr>\n",
       "      <th>3</th>\n",
       "      <td>374157065</td>\n",
       "      <td>Flu: The Story of the Great Influenza Pandemic...</td>\n",
       "      <td>Gina Bari Kolata</td>\n",
       "      <td>1999</td>\n",
       "      <td>Farrar Straus Giroux</td>\n",
       "    </tr>\n",
       "    <tr>\n",
       "      <th>4</th>\n",
       "      <td>393045218</td>\n",
       "      <td>The Mummies of Urumchi</td>\n",
       "      <td>E. J. W. Barber</td>\n",
       "      <td>1999</td>\n",
       "      <td>W. W. Norton &amp;amp; Company</td>\n",
       "    </tr>\n",
       "  </tbody>\n",
       "</table>\n",
       "</div>"
      ],
      "text/plain": [
       "        isbn                                         book_title   \n",
       "0  195153448                                Classical Mythology  \\\n",
       "1    2005018                                       Clara Callan   \n",
       "2   60973129                               Decision in Normandy   \n",
       "3  374157065  Flu: The Story of the Great Influenza Pandemic...   \n",
       "4  393045218                             The Mummies of Urumchi   \n",
       "\n",
       "            book_author year_of_publication                   publisher  \n",
       "0    Mark P. O. Morford                2002     Oxford University Press  \n",
       "1  Richard Bruce Wright                2001       HarperFlamingo Canada  \n",
       "2          Carlo D'Este                1991             HarperPerennial  \n",
       "3      Gina Bari Kolata                1999        Farrar Straus Giroux  \n",
       "4       E. J. W. Barber                1999  W. W. Norton &amp; Company  "
      ]
     },
     "execution_count": 4,
     "metadata": {},
     "output_type": "execute_result"
    }
   ],
   "source": [
    "books.head()"
   ]
  },
  {
   "cell_type": "code",
   "execution_count": 5,
   "id": "d29f7f5d",
   "metadata": {},
   "outputs": [
    {
     "data": {
      "text/html": [
       "<div>\n",
       "<style scoped>\n",
       "    .dataframe tbody tr th:only-of-type {\n",
       "        vertical-align: middle;\n",
       "    }\n",
       "\n",
       "    .dataframe tbody tr th {\n",
       "        vertical-align: top;\n",
       "    }\n",
       "\n",
       "    .dataframe thead th {\n",
       "        text-align: right;\n",
       "    }\n",
       "</style>\n",
       "<table border=\"1\" class=\"dataframe\">\n",
       "  <thead>\n",
       "    <tr style=\"text-align: right;\">\n",
       "      <th></th>\n",
       "      <th>user_id</th>\n",
       "      <th>Location</th>\n",
       "      <th>Age</th>\n",
       "    </tr>\n",
       "  </thead>\n",
       "  <tbody>\n",
       "    <tr>\n",
       "      <th>0</th>\n",
       "      <td>1</td>\n",
       "      <td>nyc, new york, usa</td>\n",
       "      <td>NaN</td>\n",
       "    </tr>\n",
       "    <tr>\n",
       "      <th>1</th>\n",
       "      <td>2</td>\n",
       "      <td>stockton, california, usa</td>\n",
       "      <td>18.0</td>\n",
       "    </tr>\n",
       "    <tr>\n",
       "      <th>2</th>\n",
       "      <td>3</td>\n",
       "      <td>moscow, yukon territory, russia</td>\n",
       "      <td>NaN</td>\n",
       "    </tr>\n",
       "    <tr>\n",
       "      <th>3</th>\n",
       "      <td>4</td>\n",
       "      <td>porto, v.n.gaia, portugal</td>\n",
       "      <td>17.0</td>\n",
       "    </tr>\n",
       "    <tr>\n",
       "      <th>4</th>\n",
       "      <td>5</td>\n",
       "      <td>farnborough, hants, united kingdom</td>\n",
       "      <td>NaN</td>\n",
       "    </tr>\n",
       "  </tbody>\n",
       "</table>\n",
       "</div>"
      ],
      "text/plain": [
       "  user_id                            Location   Age\n",
       "0       1                  nyc, new york, usa   NaN\n",
       "1       2           stockton, california, usa  18.0\n",
       "2       3     moscow, yukon territory, russia   NaN\n",
       "3       4           porto, v.n.gaia, portugal  17.0\n",
       "4       5  farnborough, hants, united kingdom   NaN"
      ]
     },
     "execution_count": 5,
     "metadata": {},
     "output_type": "execute_result"
    }
   ],
   "source": [
    "users.head()"
   ]
  },
  {
   "cell_type": "code",
   "execution_count": 6,
   "id": "5e12617d",
   "metadata": {},
   "outputs": [
    {
     "data": {
      "text/html": [
       "<div>\n",
       "<style scoped>\n",
       "    .dataframe tbody tr th:only-of-type {\n",
       "        vertical-align: middle;\n",
       "    }\n",
       "\n",
       "    .dataframe tbody tr th {\n",
       "        vertical-align: top;\n",
       "    }\n",
       "\n",
       "    .dataframe thead th {\n",
       "        text-align: right;\n",
       "    }\n",
       "</style>\n",
       "<table border=\"1\" class=\"dataframe\">\n",
       "  <thead>\n",
       "    <tr style=\"text-align: right;\">\n",
       "      <th></th>\n",
       "      <th>user_id</th>\n",
       "      <th>isbn</th>\n",
       "      <th>rating</th>\n",
       "    </tr>\n",
       "  </thead>\n",
       "  <tbody>\n",
       "    <tr>\n",
       "      <th>0</th>\n",
       "      <td>276725</td>\n",
       "      <td>034545104X</td>\n",
       "      <td>0</td>\n",
       "    </tr>\n",
       "    <tr>\n",
       "      <th>1</th>\n",
       "      <td>276726</td>\n",
       "      <td>155061224</td>\n",
       "      <td>5</td>\n",
       "    </tr>\n",
       "    <tr>\n",
       "      <th>2</th>\n",
       "      <td>276727</td>\n",
       "      <td>446520802</td>\n",
       "      <td>0</td>\n",
       "    </tr>\n",
       "    <tr>\n",
       "      <th>3</th>\n",
       "      <td>276729</td>\n",
       "      <td>052165615X</td>\n",
       "      <td>3</td>\n",
       "    </tr>\n",
       "    <tr>\n",
       "      <th>4</th>\n",
       "      <td>276729</td>\n",
       "      <td>521795028</td>\n",
       "      <td>6</td>\n",
       "    </tr>\n",
       "  </tbody>\n",
       "</table>\n",
       "</div>"
      ],
      "text/plain": [
       "   user_id        isbn  rating\n",
       "0   276725  034545104X       0\n",
       "1   276726   155061224       5\n",
       "2   276727   446520802       0\n",
       "3   276729  052165615X       3\n",
       "4   276729   521795028       6"
      ]
     },
     "execution_count": 6,
     "metadata": {},
     "output_type": "execute_result"
    }
   ],
   "source": [
    "ratings.head()"
   ]
  },
  {
   "cell_type": "code",
   "execution_count": 7,
   "id": "58d09436",
   "metadata": {},
   "outputs": [
    {
     "data": {
      "text/html": [
       "<div>\n",
       "<style scoped>\n",
       "    .dataframe tbody tr th:only-of-type {\n",
       "        vertical-align: middle;\n",
       "    }\n",
       "\n",
       "    .dataframe tbody tr th {\n",
       "        vertical-align: top;\n",
       "    }\n",
       "\n",
       "    .dataframe thead th {\n",
       "        text-align: right;\n",
       "    }\n",
       "</style>\n",
       "<table border=\"1\" class=\"dataframe\">\n",
       "  <thead>\n",
       "    <tr style=\"text-align: right;\">\n",
       "      <th></th>\n",
       "      <th>196</th>\n",
       "      <th>242</th>\n",
       "      <th>3</th>\n",
       "      <th>881250949</th>\n",
       "    </tr>\n",
       "  </thead>\n",
       "  <tbody>\n",
       "    <tr>\n",
       "      <th>0</th>\n",
       "      <td>186</td>\n",
       "      <td>302</td>\n",
       "      <td>3</td>\n",
       "      <td>891717742</td>\n",
       "    </tr>\n",
       "    <tr>\n",
       "      <th>1</th>\n",
       "      <td>22</td>\n",
       "      <td>377</td>\n",
       "      <td>1</td>\n",
       "      <td>878887116</td>\n",
       "    </tr>\n",
       "    <tr>\n",
       "      <th>2</th>\n",
       "      <td>244</td>\n",
       "      <td>51</td>\n",
       "      <td>2</td>\n",
       "      <td>880606923</td>\n",
       "    </tr>\n",
       "    <tr>\n",
       "      <th>3</th>\n",
       "      <td>166</td>\n",
       "      <td>346</td>\n",
       "      <td>1</td>\n",
       "      <td>886397596</td>\n",
       "    </tr>\n",
       "    <tr>\n",
       "      <th>4</th>\n",
       "      <td>298</td>\n",
       "      <td>474</td>\n",
       "      <td>4</td>\n",
       "      <td>884182806</td>\n",
       "    </tr>\n",
       "  </tbody>\n",
       "</table>\n",
       "</div>"
      ],
      "text/plain": [
       "   196  242  3  881250949\n",
       "0  186  302  3  891717742\n",
       "1   22  377  1  878887116\n",
       "2  244   51  2  880606923\n",
       "3  166  346  1  886397596\n",
       "4  298  474  4  884182806"
      ]
     },
     "execution_count": 7,
     "metadata": {},
     "output_type": "execute_result"
    }
   ],
   "source": [
    "recommended.head()"
   ]
  },
  {
   "cell_type": "code",
   "execution_count": 8,
   "id": "3c26968d",
   "metadata": {},
   "outputs": [
    {
     "name": "stdout",
     "output_type": "stream",
     "text": [
      "(271379, 5)\n",
      "(1048575, 3)\n",
      "(278859, 3)\n",
      "(99999, 4)\n"
     ]
    }
   ],
   "source": [
    "print(books.shape)\n",
    "print(ratings.shape)\n",
    "print(users.shape)\n",
    "print(recommended.shape)\n"
   ]
  },
  {
   "cell_type": "code",
   "execution_count": 9,
   "id": "ca90c0f8",
   "metadata": {},
   "outputs": [
    {
     "name": "stdout",
     "output_type": "stream",
     "text": [
      "Column names:  Index(['isbn', 'book_title', 'book_author', 'year_of_publication',\n",
      "       'publisher'],\n",
      "      dtype='object')\n",
      "columnn names: Index(['user_id', 'isbn', 'rating'], dtype='object')\n",
      "columnn names: Index(['user_id', 'Location', 'Age'], dtype='object')\n",
      "columnn names: Index(['196', '242', '3', '881250949'], dtype='object')\n"
     ]
    }
   ],
   "source": [
    "\n",
    "print(\"Column names: \", books.columns)\n",
    "print(\"columnn names:\",ratings.columns)\n",
    "print(\"columnn names:\",users.columns)\n",
    "print(\"columnn names:\",recommended.columns)\n"
   ]
  },
  {
   "cell_type": "code",
   "execution_count": 10,
   "id": "f7d6fd82",
   "metadata": {},
   "outputs": [
    {
     "name": "stdout",
     "output_type": "stream",
     "text": [
      "Data types:  isbn                   object\n",
      "book_title             object\n",
      "book_author            object\n",
      "year_of_publication    object\n",
      "publisher              object\n",
      "dtype: object\n",
      "Data types:  user_id     int64\n",
      "isbn       object\n",
      "rating      int64\n",
      "dtype: object\n",
      "Data types:  user_id      object\n",
      "Location     object\n",
      "Age         float64\n",
      "dtype: object\n",
      "Data types:  196          int64\n",
      "242          int64\n",
      "3            int64\n",
      "881250949    int64\n",
      "dtype: object\n"
     ]
    }
   ],
   "source": [
    "print(\"Data types: \", books.dtypes)\n",
    "print(\"Data types: \", ratings.dtypes)\n",
    "print(\"Data types: \", users.dtypes)\n",
    "print(\"Data types: \", recommended.dtypes)\n"
   ]
  },
  {
   "cell_type": "code",
   "execution_count": 11,
   "id": "15d2472e",
   "metadata": {},
   "outputs": [
    {
     "name": "stdout",
     "output_type": "stream",
     "text": [
      "Statistics:               isbn      book_title      book_author year_of_publication   \n",
      "count      271379          271379           271377              271379  \\\n",
      "unique     271379          242150           102041                 202   \n",
      "top     195153448  Selected Poems  Agatha Christie                2002   \n",
      "freq            1              27              632               17145   \n",
      "\n",
      "        publisher  \n",
      "count      271377  \n",
      "unique      16823  \n",
      "top     Harlequin  \n",
      "freq         7535  \n",
      "Statistics:              user_id        rating\n",
      "count  1.048575e+06  1.048575e+06\n",
      "mean   1.285089e+05  2.879907e+00\n",
      "std    7.421876e+04  3.857870e+00\n",
      "min    2.000000e+00  0.000000e+00\n",
      "25%    6.339400e+04  0.000000e+00\n",
      "50%    1.288350e+05  0.000000e+00\n",
      "75%    1.927790e+05  7.000000e+00\n",
      "max    2.788540e+05  1.000000e+01\n",
      "Statistics:                   Age\n",
      "count  168096.000000\n",
      "mean       34.751434\n",
      "std        14.428097\n",
      "min         0.000000\n",
      "25%        24.000000\n",
      "50%        32.000000\n",
      "75%        44.000000\n",
      "max       244.000000\n",
      "Statistics:                  196           242             3     881250949\n",
      "count  99999.000000  99999.000000  99999.000000  9.999900e+04\n",
      "mean     462.487415    425.531965      3.529865  8.835289e+08\n",
      "std      266.614421    330.799501      1.125678  5.343878e+06\n",
      "min        1.000000      1.000000      1.000000  8.747247e+08\n",
      "25%      254.000000    175.000000      3.000000  8.794487e+08\n",
      "50%      447.000000    322.000000      4.000000  8.828269e+08\n",
      "75%      682.000000    631.000000      4.000000  8.882600e+08\n",
      "max      943.000000   1682.000000      5.000000  8.932866e+08\n"
     ]
    }
   ],
   "source": [
    "print(\"Statistics: \", books.describe())\n",
    "print(\"Statistics: \", ratings.describe())\n",
    "print(\"Statistics: \", users.describe())\n",
    "print(\"Statistics: \", recommended.describe())\n",
    "\n"
   ]
  },
  {
   "cell_type": "code",
   "execution_count": 12,
   "id": "ad08d8f6",
   "metadata": {},
   "outputs": [
    {
     "name": "stdout",
     "output_type": "stream",
     "text": [
      "<class 'pandas.core.frame.DataFrame'>\n",
      "RangeIndex: 271379 entries, 0 to 271378\n",
      "Data columns (total 5 columns):\n",
      " #   Column               Non-Null Count   Dtype \n",
      "---  ------               --------------   ----- \n",
      " 0   isbn                 271379 non-null  object\n",
      " 1   book_title           271379 non-null  object\n",
      " 2   book_author          271377 non-null  object\n",
      " 3   year_of_publication  271379 non-null  object\n",
      " 4   publisher            271377 non-null  object\n",
      "dtypes: object(5)\n",
      "memory usage: 10.4+ MB\n",
      "None\n",
      "<class 'pandas.core.frame.DataFrame'>\n",
      "RangeIndex: 1048575 entries, 0 to 1048574\n",
      "Data columns (total 3 columns):\n",
      " #   Column   Non-Null Count    Dtype \n",
      "---  ------   --------------    ----- \n",
      " 0   user_id  1048575 non-null  int64 \n",
      " 1   isbn     1048575 non-null  object\n",
      " 2   rating   1048575 non-null  int64 \n",
      "dtypes: int64(2), object(1)\n",
      "memory usage: 24.0+ MB\n",
      "None\n",
      "<class 'pandas.core.frame.DataFrame'>\n",
      "RangeIndex: 278859 entries, 0 to 278858\n",
      "Data columns (total 3 columns):\n",
      " #   Column    Non-Null Count   Dtype  \n",
      "---  ------    --------------   -----  \n",
      " 0   user_id   278859 non-null  object \n",
      " 1   Location  278858 non-null  object \n",
      " 2   Age       168096 non-null  float64\n",
      "dtypes: float64(1), object(2)\n",
      "memory usage: 6.4+ MB\n",
      "None\n",
      "<class 'pandas.core.frame.DataFrame'>\n",
      "RangeIndex: 99999 entries, 0 to 99998\n",
      "Data columns (total 4 columns):\n",
      " #   Column     Non-Null Count  Dtype\n",
      "---  ------     --------------  -----\n",
      " 0   196        99999 non-null  int64\n",
      " 1   242        99999 non-null  int64\n",
      " 2   3          99999 non-null  int64\n",
      " 3   881250949  99999 non-null  int64\n",
      "dtypes: int64(4)\n",
      "memory usage: 3.1 MB\n",
      "None\n"
     ]
    }
   ],
   "source": [
    "print(books.info())\n",
    "print(ratings.info())\n",
    "print(users.info())\n",
    "print(recommended.info())"
   ]
  },
  {
   "cell_type": "code",
   "execution_count": 13,
   "id": "7261285d",
   "metadata": {},
   "outputs": [
    {
     "name": "stdout",
     "output_type": "stream",
     "text": [
      "Missing Values: \n",
      "isbn                   0\n",
      "book_title             0\n",
      "book_author            2\n",
      "year_of_publication    0\n",
      "publisher              2\n",
      "dtype: int64\n",
      "user_id    0\n",
      "isbn       0\n",
      "rating     0\n",
      "dtype: int64\n",
      "user_id          0\n",
      "Location         1\n",
      "Age         110763\n",
      "dtype: int64\n",
      "196          0\n",
      "242          0\n",
      "3            0\n",
      "881250949    0\n",
      "dtype: int64\n"
     ]
    }
   ],
   "source": [
    "print(\"Missing Values: \")\n",
    "print(books.isnull().sum())\n",
    "print(ratings.isnull().sum())\n",
    "print(users.isnull().sum())\n",
    "print(recommended.isnull().sum())\n"
   ]
  },
  {
   "cell_type": "code",
   "execution_count": 14,
   "id": "d5b38ffc",
   "metadata": {},
   "outputs": [],
   "source": [
    "books.dropna(inplace=True)\n",
    "ratings.dropna(inplace=True)\n",
    "users.dropna(inplace=True)\n",
    "recommended.dropna(inplace=True)\n"
   ]
  },
  {
   "cell_type": "code",
   "execution_count": 15,
   "id": "b9c84ea7",
   "metadata": {},
   "outputs": [],
   "source": [
    "books.reset_index(drop=True, inplace=True)\n",
    "ratings.reset_index(drop=True, inplace=True)\n",
    "users.reset_index(drop=True, inplace=True)\n",
    "recommended.reset_index(drop=True, inplace=True)\n"
   ]
  },
  {
   "cell_type": "code",
   "execution_count": 16,
   "id": "58473fd9",
   "metadata": {},
   "outputs": [
    {
     "name": "stdout",
     "output_type": "stream",
     "text": [
      "Missing Values After Cleaning: \n",
      "isbn                   0\n",
      "book_title             0\n",
      "book_author            0\n",
      "year_of_publication    0\n",
      "publisher              0\n",
      "dtype: int64\n",
      "user_id    0\n",
      "isbn       0\n",
      "rating     0\n",
      "dtype: int64\n",
      "user_id     0\n",
      "Location    0\n",
      "Age         0\n",
      "dtype: int64\n",
      "196          0\n",
      "242          0\n",
      "3            0\n",
      "881250949    0\n",
      "dtype: int64\n"
     ]
    }
   ],
   "source": [
    "print(\"Missing Values After Cleaning: \")\n",
    "print(books.isnull().sum())\n",
    "print(ratings.isnull().sum())\n",
    "print(users.isnull().sum())\n",
    "print(recommended.isnull().sum())"
   ]
  },
  {
   "cell_type": "code",
   "execution_count": 17,
   "id": "846f05da",
   "metadata": {},
   "outputs": [
    {
     "name": "stdout",
     "output_type": "stream",
     "text": [
      "Correlation between numerical columns: \n"
     ]
    },
    {
     "ename": "ValueError",
     "evalue": "could not convert string to float: '074322678X'",
     "output_type": "error",
     "traceback": [
      "\u001b[1;31m---------------------------------------------------------------------------\u001b[0m",
      "\u001b[1;31mValueError\u001b[0m                                Traceback (most recent call last)",
      "Cell \u001b[1;32mIn[17], line 2\u001b[0m\n\u001b[0;32m      1\u001b[0m \u001b[38;5;28mprint\u001b[39m(\u001b[38;5;124m\"\u001b[39m\u001b[38;5;124mCorrelation between numerical columns: \u001b[39m\u001b[38;5;124m\"\u001b[39m)\n\u001b[1;32m----> 2\u001b[0m \u001b[38;5;28mprint\u001b[39m(\u001b[43mbooks\u001b[49m\u001b[38;5;241;43m.\u001b[39;49m\u001b[43mcorr\u001b[49m\u001b[43m(\u001b[49m\u001b[43m)\u001b[49m)\n",
      "File \u001b[1;32m~\\anaconda1\\lib\\site-packages\\pandas\\core\\frame.py:10054\u001b[0m, in \u001b[0;36mDataFrame.corr\u001b[1;34m(self, method, min_periods, numeric_only)\u001b[0m\n\u001b[0;32m  10052\u001b[0m cols \u001b[38;5;241m=\u001b[39m data\u001b[38;5;241m.\u001b[39mcolumns\n\u001b[0;32m  10053\u001b[0m idx \u001b[38;5;241m=\u001b[39m cols\u001b[38;5;241m.\u001b[39mcopy()\n\u001b[1;32m> 10054\u001b[0m mat \u001b[38;5;241m=\u001b[39m \u001b[43mdata\u001b[49m\u001b[38;5;241;43m.\u001b[39;49m\u001b[43mto_numpy\u001b[49m\u001b[43m(\u001b[49m\u001b[43mdtype\u001b[49m\u001b[38;5;241;43m=\u001b[39;49m\u001b[38;5;28;43mfloat\u001b[39;49m\u001b[43m,\u001b[49m\u001b[43m \u001b[49m\u001b[43mna_value\u001b[49m\u001b[38;5;241;43m=\u001b[39;49m\u001b[43mnp\u001b[49m\u001b[38;5;241;43m.\u001b[39;49m\u001b[43mnan\u001b[49m\u001b[43m,\u001b[49m\u001b[43m \u001b[49m\u001b[43mcopy\u001b[49m\u001b[38;5;241;43m=\u001b[39;49m\u001b[38;5;28;43;01mFalse\u001b[39;49;00m\u001b[43m)\u001b[49m\n\u001b[0;32m  10056\u001b[0m \u001b[38;5;28;01mif\u001b[39;00m method \u001b[38;5;241m==\u001b[39m \u001b[38;5;124m\"\u001b[39m\u001b[38;5;124mpearson\u001b[39m\u001b[38;5;124m\"\u001b[39m:\n\u001b[0;32m  10057\u001b[0m     correl \u001b[38;5;241m=\u001b[39m libalgos\u001b[38;5;241m.\u001b[39mnancorr(mat, minp\u001b[38;5;241m=\u001b[39mmin_periods)\n",
      "File \u001b[1;32m~\\anaconda1\\lib\\site-packages\\pandas\\core\\frame.py:1837\u001b[0m, in \u001b[0;36mDataFrame.to_numpy\u001b[1;34m(self, dtype, copy, na_value)\u001b[0m\n\u001b[0;32m   1835\u001b[0m \u001b[38;5;28;01mif\u001b[39;00m dtype \u001b[38;5;129;01mis\u001b[39;00m \u001b[38;5;129;01mnot\u001b[39;00m \u001b[38;5;28;01mNone\u001b[39;00m:\n\u001b[0;32m   1836\u001b[0m     dtype \u001b[38;5;241m=\u001b[39m np\u001b[38;5;241m.\u001b[39mdtype(dtype)\n\u001b[1;32m-> 1837\u001b[0m result \u001b[38;5;241m=\u001b[39m \u001b[38;5;28;43mself\u001b[39;49m\u001b[38;5;241;43m.\u001b[39;49m\u001b[43m_mgr\u001b[49m\u001b[38;5;241;43m.\u001b[39;49m\u001b[43mas_array\u001b[49m\u001b[43m(\u001b[49m\u001b[43mdtype\u001b[49m\u001b[38;5;241;43m=\u001b[39;49m\u001b[43mdtype\u001b[49m\u001b[43m,\u001b[49m\u001b[43m \u001b[49m\u001b[43mcopy\u001b[49m\u001b[38;5;241;43m=\u001b[39;49m\u001b[43mcopy\u001b[49m\u001b[43m,\u001b[49m\u001b[43m \u001b[49m\u001b[43mna_value\u001b[49m\u001b[38;5;241;43m=\u001b[39;49m\u001b[43mna_value\u001b[49m\u001b[43m)\u001b[49m\n\u001b[0;32m   1838\u001b[0m \u001b[38;5;28;01mif\u001b[39;00m result\u001b[38;5;241m.\u001b[39mdtype \u001b[38;5;129;01mis\u001b[39;00m \u001b[38;5;129;01mnot\u001b[39;00m dtype:\n\u001b[0;32m   1839\u001b[0m     result \u001b[38;5;241m=\u001b[39m np\u001b[38;5;241m.\u001b[39marray(result, dtype\u001b[38;5;241m=\u001b[39mdtype, copy\u001b[38;5;241m=\u001b[39m\u001b[38;5;28;01mFalse\u001b[39;00m)\n",
      "File \u001b[1;32m~\\anaconda1\\lib\\site-packages\\pandas\\core\\internals\\managers.py:1724\u001b[0m, in \u001b[0;36mBlockManager.as_array\u001b[1;34m(self, dtype, copy, na_value)\u001b[0m\n\u001b[0;32m   1722\u001b[0m     arr \u001b[38;5;241m=\u001b[39m np\u001b[38;5;241m.\u001b[39masarray(blk\u001b[38;5;241m.\u001b[39mget_values())\n\u001b[0;32m   1723\u001b[0m     \u001b[38;5;28;01mif\u001b[39;00m dtype:\n\u001b[1;32m-> 1724\u001b[0m         arr \u001b[38;5;241m=\u001b[39m \u001b[43marr\u001b[49m\u001b[38;5;241;43m.\u001b[39;49m\u001b[43mastype\u001b[49m\u001b[43m(\u001b[49m\u001b[43mdtype\u001b[49m\u001b[43m,\u001b[49m\u001b[43m \u001b[49m\u001b[43mcopy\u001b[49m\u001b[38;5;241;43m=\u001b[39;49m\u001b[38;5;28;43;01mFalse\u001b[39;49;00m\u001b[43m)\u001b[49m\n\u001b[0;32m   1726\u001b[0m \u001b[38;5;28;01mif\u001b[39;00m copy:\n\u001b[0;32m   1727\u001b[0m     arr \u001b[38;5;241m=\u001b[39m arr\u001b[38;5;241m.\u001b[39mcopy()\n",
      "\u001b[1;31mValueError\u001b[0m: could not convert string to float: '074322678X'"
     ]
    }
   ],
   "source": [
    "print(\"Correlation between numerical columns: \")\n",
    "print(books.corr())\n"
   ]
  },
  {
   "cell_type": "markdown",
   "id": "809ea9b0",
   "metadata": {},
   "source": [
    "**READ THE RATING DATA**"
   ]
  },
  {
   "cell_type": "code",
   "execution_count": 45,
   "id": "489bd9a2",
   "metadata": {},
   "outputs": [
    {
     "name": "stdout",
     "output_type": "stream",
     "text": [
      "   user_id        isbn  rating\n",
      "0   276725  034545104X       0\n",
      "1   276726   155061224       5\n",
      "2   276727   446520802       0\n",
      "3   276729  052165615X       3\n",
      "4   276729   521795028       6\n"
     ]
    }
   ],
   "source": [
    "print(ratings.head())\n"
   ]
  },
  {
   "cell_type": "code",
   "execution_count": 46,
   "id": "e3a928ca",
   "metadata": {},
   "outputs": [
    {
     "name": "stdout",
     "output_type": "stream",
     "text": [
      "Shape of the dataset:  (1048575, 3)\n"
     ]
    }
   ],
   "source": [
    "print(\"Shape of the dataset: \", ratings.shape)\n"
   ]
  },
  {
   "cell_type": "code",
   "execution_count": 47,
   "id": "3d2ffeb2",
   "metadata": {},
   "outputs": [
    {
     "name": "stdout",
     "output_type": "stream",
     "text": [
      "Data types of each column: \n",
      "user_id     int64\n",
      "isbn       object\n",
      "rating      int64\n",
      "dtype: object\n"
     ]
    }
   ],
   "source": [
    "print(\"Data types of each column: \")\n",
    "print(ratings.dtypes)\n"
   ]
  },
  {
   "cell_type": "code",
   "execution_count": 48,
   "id": "3526dc7c",
   "metadata": {},
   "outputs": [
    {
     "name": "stdout",
     "output_type": "stream",
     "text": [
      "Statistics of the dataset: \n",
      "            user_id        rating\n",
      "count  1.048575e+06  1.048575e+06\n",
      "mean   1.285089e+05  2.879907e+00\n",
      "std    7.421876e+04  3.857870e+00\n",
      "min    2.000000e+00  0.000000e+00\n",
      "25%    6.339400e+04  0.000000e+00\n",
      "50%    1.288350e+05  0.000000e+00\n",
      "75%    1.927790e+05  7.000000e+00\n",
      "max    2.788540e+05  1.000000e+01\n"
     ]
    }
   ],
   "source": [
    "print(\"Statistics of the dataset: \")\n",
    "print(ratings.describe())"
   ]
  },
  {
   "cell_type": "code",
   "execution_count": 49,
   "id": "30d2f413",
   "metadata": {},
   "outputs": [
    {
     "name": "stdout",
     "output_type": "stream",
     "text": [
      "Missing Values: \n",
      "user_id    0\n",
      "isbn       0\n",
      "rating     0\n",
      "dtype: int64\n"
     ]
    }
   ],
   "source": [
    "print(\"Missing Values: \")\n",
    "print(ratings.isnull().sum())\n"
   ]
  },
  {
   "cell_type": "code",
   "execution_count": 50,
   "id": "f30396a5",
   "metadata": {},
   "outputs": [],
   "source": [
    "    num_unique_users = ratings['user_id'].nunique()\n",
    "    num_unique_books = ratings['isbn'].nunique()"
   ]
  },
  {
   "cell_type": "code",
   "execution_count": 51,
   "id": "41794333",
   "metadata": {},
   "outputs": [
    {
     "name": "stdout",
     "output_type": "stream",
     "text": [
      "Number of unique users:  95513\n",
      "Number of unique books:  322102\n"
     ]
    }
   ],
   "source": [
    "print(\"Number of unique users: \", num_unique_users)\n",
    "print(\"Number of unique books: \", num_unique_books)\n"
   ]
  },
  {
   "cell_type": "code",
   "execution_count": 52,
   "id": "a1b41eb1",
   "metadata": {},
   "outputs": [],
   "source": [
    "from sklearn.preprocessing import LabelEncoder\n",
    "\n",
    "label_encoder = LabelEncoder()\n"
   ]
  },
  {
   "cell_type": "code",
   "execution_count": 53,
   "id": "97e72195",
   "metadata": {},
   "outputs": [],
   "source": [
    "books['isbn_encoded'] = label_encoder.fit_transform(books['isbn'])\n"
   ]
  },
  {
   "cell_type": "code",
   "execution_count": 54,
   "id": "62a5f4a3",
   "metadata": {},
   "outputs": [
    {
     "name": "stdout",
     "output_type": "stream",
     "text": [
      "              isbn  isbn_encoded\n",
      "0        195153448         57258\n",
      "1          2005018         57636\n",
      "2         60973129        177767\n",
      "3        374157065        107193\n",
      "4        393045218        119102\n",
      "...            ...           ...\n",
      "271371   440400988        133898\n",
      "271372   525447644        157255\n",
      "271373  006008667X           327\n",
      "271374   192126040         55314\n",
      "271375   767409752        216056\n",
      "\n",
      "[271376 rows x 2 columns]\n"
     ]
    }
   ],
   "source": [
    "print(books[['isbn', 'isbn_encoded']])\n"
   ]
  },
  {
   "cell_type": "code",
   "execution_count": 55,
   "id": "fab488d9",
   "metadata": {},
   "outputs": [],
   "source": [
    "ratings['user_id_encoded'] = label_encoder.fit_transform(ratings['user_id'])\n"
   ]
  },
  {
   "cell_type": "code",
   "execution_count": 56,
   "id": "3e2d55a1",
   "metadata": {},
   "outputs": [
    {
     "name": "stdout",
     "output_type": "stream",
     "text": [
      "         user_id  user_id_encoded\n",
      "0         276725            94663\n",
      "1         276726            94664\n",
      "2         276727            94665\n",
      "3         276729            94666\n",
      "4         276729            94666\n",
      "...          ...              ...\n",
      "1048570   250764            94662\n",
      "1048571   250764            94662\n",
      "1048572   250764            94662\n",
      "1048573   250764            94662\n",
      "1048574   250764            94662\n",
      "\n",
      "[1048575 rows x 2 columns]\n"
     ]
    }
   ],
   "source": [
    "print(ratings[['user_id', 'user_id_encoded']])\n"
   ]
  },
  {
   "cell_type": "code",
   "execution_count": 57,
   "id": "fb20453e",
   "metadata": {},
   "outputs": [],
   "source": [
    "isbn_encoder = LabelEncoder()\n"
   ]
  },
  {
   "cell_type": "code",
   "execution_count": 58,
   "id": "bf7abf5c",
   "metadata": {},
   "outputs": [],
   "source": [
    "ratings['isbn_encoder'] = isbn_encoder.fit_transform(ratings['isbn'])\n"
   ]
  },
  {
   "cell_type": "code",
   "execution_count": 59,
   "id": "6c1d62e4",
   "metadata": {},
   "outputs": [],
   "source": [
    "user_encoder = LabelEncoder()\n"
   ]
  },
  {
   "cell_type": "code",
   "execution_count": 60,
   "id": "e4f832ea",
   "metadata": {
    "scrolled": false
   },
   "outputs": [],
   "source": [
    "ratings['user_id_encoded'] = user_encoder.fit_transform(ratings['user_id'])\n"
   ]
  },
  {
   "cell_type": "code",
   "execution_count": 61,
   "id": "02bba872",
   "metadata": {},
   "outputs": [
    {
     "name": "stdout",
     "output_type": "stream",
     "text": [
      "         user_id  user_id_encoded        isbn  isbn_encoder\n",
      "0         276725            94663  034545104X          4511\n",
      "1         276726            94664   155061224         30815\n",
      "2         276727            94665   446520802        158458\n",
      "3         276729            94666  052165615X          9704\n",
      "4         276729            94666   521795028        177084\n",
      "...          ...              ...         ...           ...\n",
      "1048570   250764            94662   451410777        167557\n",
      "1048571   250764            94662   452264464        169219\n",
      "1048572   250764            94662  048623715X          9215\n",
      "1048573   250764            94662   486256588        171876\n",
      "1048574   250764            94662   515069434        173457\n",
      "\n",
      "[1048575 rows x 4 columns]\n"
     ]
    }
   ],
   "source": [
    "print(ratings[['user_id', 'user_id_encoded', 'isbn', 'isbn_encoder']])\n"
   ]
  },
  {
   "cell_type": "code",
   "execution_count": 62,
   "id": "198a6c5d",
   "metadata": {},
   "outputs": [],
   "source": [
    "ratings_matrix = ratings[['user_id_encoded', 'isbn_encoder', 'rating']]\n"
   ]
  },
  {
   "cell_type": "code",
   "execution_count": 63,
   "id": "070c4fb3",
   "metadata": {},
   "outputs": [
    {
     "name": "stdout",
     "output_type": "stream",
     "text": [
      "   user_id_encoded  isbn_encoder  rating\n",
      "0            94663          4511       0\n",
      "1            94664         30815       5\n",
      "2            94665        158458       0\n",
      "3            94666          9704       3\n",
      "4            94666        177084       6\n"
     ]
    }
   ],
   "source": [
    "print(ratings_matrix.head())\n"
   ]
  },
  {
   "cell_type": "code",
   "execution_count": 64,
   "id": "5ba0a473",
   "metadata": {},
   "outputs": [],
   "source": [
    "from sklearn.model_selection import train_test_split\n"
   ]
  },
  {
   "cell_type": "code",
   "execution_count": 65,
   "id": "215c575b",
   "metadata": {},
   "outputs": [
    {
     "ename": "SyntaxError",
     "evalue": "positional argument follows keyword argument (3913578959.py, line 1)",
     "output_type": "error",
     "traceback": [
      "\u001b[1;36m  File \u001b[1;32m\"C:\\Users\\91805\\AppData\\Local\\Temp\\ipykernel_4488\\3913578959.py\"\u001b[1;36m, line \u001b[1;32m1\u001b[0m\n\u001b[1;33m    train_df, test_df = train_test_split(ratings_matrix, test_size=0,998, random_state=20)\u001b[0m\n\u001b[1;37m                                                                                         ^\u001b[0m\n\u001b[1;31mSyntaxError\u001b[0m\u001b[1;31m:\u001b[0m positional argument follows keyword argument\n"
     ]
    }
   ],
   "source": [
    "train_df, test_df = train_test_split(ratings_matrix, test_size=0,998, random_state=20)\n"
   ]
  },
  {
   "cell_type": "code",
   "execution_count": null,
   "id": "d05e6cc7",
   "metadata": {},
   "outputs": [],
   "source": [
    "print(\"Training set shape: \", train_df.shape)\n",
    "print(\"Testing set shape: \", test_df.shape)"
   ]
  },
  {
   "cell_type": "code",
   "execution_count": null,
   "id": "7aa9c8cd",
   "metadata": {},
   "outputs": [],
   "source": [
    "from sklearn.metrics.pairwise import cosine_similarity\n"
   ]
  },
  {
   "cell_type": "code",
   "execution_count": 126,
   "id": "3e4a007f",
   "metadata": {},
   "outputs": [
    {
     "ename": "MemoryError",
     "evalue": "Unable to allocate 161. GiB for an array with shape (20971, 1027604) and data type float64",
     "output_type": "error",
     "traceback": [
      "\u001b[1;31m---------------------------------------------------------------------------\u001b[0m",
      "\u001b[1;31mMemoryError\u001b[0m                               Traceback (most recent call last)",
      "\u001b[1;32m~\\AppData\\Local\\Temp\\ipykernel_2184\\1382706129.py\u001b[0m in \u001b[0;36m<module>\u001b[1;34m\u001b[0m\n\u001b[1;32m----> 1\u001b[1;33m \u001b[0msimilarity_scores\u001b[0m \u001b[1;33m=\u001b[0m \u001b[0mcosine_similarity\u001b[0m\u001b[1;33m(\u001b[0m\u001b[0mtrain_df\u001b[0m\u001b[1;33m,\u001b[0m \u001b[0mtest_df\u001b[0m\u001b[1;33m)\u001b[0m\u001b[1;33m\u001b[0m\u001b[1;33m\u001b[0m\u001b[0m\n\u001b[0m\u001b[0;32m      2\u001b[0m \u001b[0msimilarity_scores\u001b[0m\u001b[1;33m\u001b[0m\u001b[1;33m\u001b[0m\u001b[0m\n",
      "\u001b[1;32m~\\anaconda1\\lib\\site-packages\\sklearn\\metrics\\pairwise.py\u001b[0m in \u001b[0;36mcosine_similarity\u001b[1;34m(X, Y, dense_output)\u001b[0m\n\u001b[0;32m   1257\u001b[0m         \u001b[0mY_normalized\u001b[0m \u001b[1;33m=\u001b[0m \u001b[0mnormalize\u001b[0m\u001b[1;33m(\u001b[0m\u001b[0mY\u001b[0m\u001b[1;33m,\u001b[0m \u001b[0mcopy\u001b[0m\u001b[1;33m=\u001b[0m\u001b[1;32mTrue\u001b[0m\u001b[1;33m)\u001b[0m\u001b[1;33m\u001b[0m\u001b[1;33m\u001b[0m\u001b[0m\n\u001b[0;32m   1258\u001b[0m \u001b[1;33m\u001b[0m\u001b[0m\n\u001b[1;32m-> 1259\u001b[1;33m     \u001b[0mK\u001b[0m \u001b[1;33m=\u001b[0m \u001b[0msafe_sparse_dot\u001b[0m\u001b[1;33m(\u001b[0m\u001b[0mX_normalized\u001b[0m\u001b[1;33m,\u001b[0m \u001b[0mY_normalized\u001b[0m\u001b[1;33m.\u001b[0m\u001b[0mT\u001b[0m\u001b[1;33m,\u001b[0m \u001b[0mdense_output\u001b[0m\u001b[1;33m=\u001b[0m\u001b[0mdense_output\u001b[0m\u001b[1;33m)\u001b[0m\u001b[1;33m\u001b[0m\u001b[1;33m\u001b[0m\u001b[0m\n\u001b[0m\u001b[0;32m   1260\u001b[0m \u001b[1;33m\u001b[0m\u001b[0m\n\u001b[0;32m   1261\u001b[0m     \u001b[1;32mreturn\u001b[0m \u001b[0mK\u001b[0m\u001b[1;33m\u001b[0m\u001b[1;33m\u001b[0m\u001b[0m\n",
      "\u001b[1;32m~\\anaconda1\\lib\\site-packages\\sklearn\\utils\\extmath.py\u001b[0m in \u001b[0;36msafe_sparse_dot\u001b[1;34m(a, b, dense_output)\u001b[0m\n\u001b[0;32m    151\u001b[0m             \u001b[0mret\u001b[0m \u001b[1;33m=\u001b[0m \u001b[0mnp\u001b[0m\u001b[1;33m.\u001b[0m\u001b[0mdot\u001b[0m\u001b[1;33m(\u001b[0m\u001b[0ma\u001b[0m\u001b[1;33m,\u001b[0m \u001b[0mb\u001b[0m\u001b[1;33m)\u001b[0m\u001b[1;33m\u001b[0m\u001b[1;33m\u001b[0m\u001b[0m\n\u001b[0;32m    152\u001b[0m     \u001b[1;32melse\u001b[0m\u001b[1;33m:\u001b[0m\u001b[1;33m\u001b[0m\u001b[1;33m\u001b[0m\u001b[0m\n\u001b[1;32m--> 153\u001b[1;33m         \u001b[0mret\u001b[0m \u001b[1;33m=\u001b[0m \u001b[0ma\u001b[0m \u001b[1;33m@\u001b[0m \u001b[0mb\u001b[0m\u001b[1;33m\u001b[0m\u001b[1;33m\u001b[0m\u001b[0m\n\u001b[0m\u001b[0;32m    154\u001b[0m \u001b[1;33m\u001b[0m\u001b[0m\n\u001b[0;32m    155\u001b[0m     if (\n",
      "\u001b[1;31mMemoryError\u001b[0m: Unable to allocate 161. GiB for an array with shape (20971, 1027604) and data type float64"
     ]
    }
   ],
   "source": [
    "similarity_scores = cosine_similarity(train_df, test_df)\n",
    "similarity_scores"
   ]
  },
  {
   "cell_type": "code",
   "execution_count": 78,
   "id": "b91f5299",
   "metadata": {},
   "outputs": [
    {
     "data": {
      "text/plain": [
       "(1048566, 9)"
      ]
     },
     "execution_count": 78,
     "metadata": {},
     "output_type": "execute_result"
    }
   ],
   "source": [
    "similarity_scores.shape"
   ]
  },
  {
   "cell_type": "code",
   "execution_count": 62,
   "id": "d5c5f361",
   "metadata": {},
   "outputs": [],
   "source": [
    "user_similarity = cosine_similarity(test_df)"
   ]
  },
  {
   "cell_type": "code",
   "execution_count": 63,
   "id": "2ef4c179",
   "metadata": {},
   "outputs": [],
   "source": [
    "user_index = 0\n"
   ]
  },
  {
   "cell_type": "code",
   "execution_count": 64,
   "id": "15a85c86",
   "metadata": {},
   "outputs": [],
   "source": [
    "user_similarity_scores = user_similarity[user_index]\n"
   ]
  },
  {
   "cell_type": "code",
   "execution_count": 65,
   "id": "6775b559",
   "metadata": {},
   "outputs": [],
   "source": [
    "top_similar_users_indices = np.argsort(-user_similarity_scores)[1:]\n"
   ]
  },
  {
   "cell_type": "code",
   "execution_count": 66,
   "id": "607c6008",
   "metadata": {},
   "outputs": [],
   "source": [
    "top_similar_users_ratings = train_df.iloc[top_similar_users_indices]\n"
   ]
  },
  {
   "cell_type": "code",
   "execution_count": 67,
   "id": "4fdd540b",
   "metadata": {},
   "outputs": [],
   "source": [
    "user_predictions = np.dot(user_similarity_scores[top_similar_users_indices], top_similar_users_ratings) / np.sum(np.abs(user_similarity_scores[top_similar_users_indices]))\n"
   ]
  },
  {
   "cell_type": "code",
   "execution_count": 68,
   "id": "2a0a4119",
   "metadata": {},
   "outputs": [
    {
     "name": "stdout",
     "output_type": "stream",
     "text": [
      "User Predictions:\n"
     ]
    }
   ],
   "source": [
    "print(\"User Predictions:\")\n"
   ]
  },
  {
   "cell_type": "code",
   "execution_count": 69,
   "id": "1c3c256f",
   "metadata": {},
   "outputs": [
    {
     "name": "stdout",
     "output_type": "stream",
     "text": [
      "[nan nan nan]\n"
     ]
    }
   ],
   "source": [
    "print(user_predictions)\n"
   ]
  },
  {
   "cell_type": "code",
   "execution_count": 1,
   "id": "dccbcf08",
   "metadata": {},
   "outputs": [],
   "source": [
    "from sklearn.metrics import mean_squared_error\n",
    "from math import sqrt\n"
   ]
  },
  {
   "cell_type": "code",
   "execution_count": null,
   "id": "eea0c172",
   "metadata": {},
   "outputs": [],
   "source": []
  }
 ],
 "metadata": {
  "kernelspec": {
   "display_name": "Python 3 (ipykernel)",
   "language": "python",
   "name": "python3"
  },
  "language_info": {
   "codemirror_mode": {
    "name": "ipython",
    "version": 3
   },
   "file_extension": ".py",
   "mimetype": "text/x-python",
   "name": "python",
   "nbconvert_exporter": "python",
   "pygments_lexer": "ipython3",
   "version": "3.9.13"
  }
 },
 "nbformat": 4,
 "nbformat_minor": 5
}
